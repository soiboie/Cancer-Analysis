{
  "cells": [
    {
      "cell_type": "markdown",
      "metadata": {
        "id": "5CxuiDF6Qlzx"
      },
      "source": [
        "#Forming the Dataframe\n",
        "The datatype conversion\n",
        "\n",
        "\n",
        "1.   Gender\n",
        "2.   Smoking\n",
        "3.   Genetic Risk\n",
        "4.   Alcohol Intake\n",
        "\n",
        "\n"
      ]
    },
    {
      "cell_type": "markdown",
      "metadata": {
        "id": "g8DG3_9SoiSN"
      },
      "source": [
        "#CANCER ANALYSIS"
      ]
    },
    {
      "cell_type": "markdown",
      "metadata": {
        "id": "ZYsp9fxAQYZK"
      },
      "source": [
        "#Importing Libraries"
      ]
    },
    {
      "cell_type": "code",
      "execution_count": null,
      "metadata": {
        "id": "yxtVCmfps4hv"
      },
      "outputs": [],
      "source": [
        "import os\n",
        "import pandas as pd\n",
        "from sklearn.preprocessing import LabelEncoder\n",
        "from sklearn.impute import KNNImputer\n",
        "\n",
        "# Directory containing the Excel files\n",
        "directory = '/content/drive/MyDrive/Cancer Data'"
      ]
    },
    {
      "cell_type": "markdown",
      "metadata": {
        "id": "tq-haPxIobQc"
      },
      "source": []
    },
    {
      "cell_type": "code",
      "execution_count": null,
      "metadata": {
        "colab": {
          "base_uri": "https://localhost:8080/"
        },
        "id": "1yfQ4gHwQh7t",
        "outputId": "8fd4ef5d-e5e4-43a8-e429-0ad659e269c0"
      },
      "outputs": [
        {
          "output_type": "stream",
          "name": "stdout",
          "text": [
            "Combined Cancer Data:\n",
            "   Age Gender Smoking Genetic Risk Alcohol Intake  BMI  PhysicalActivity  \\\n",
            "0   33      M      No           No            Yes  NaN               NaN   \n",
            "1   17      M      No          Yes             No  NaN               NaN   \n",
            "2   35      M      No          Yes            Yes  NaN               NaN   \n",
            "3   37      M     Yes          Yes            Yes  NaN               NaN   \n",
            "4   46      M     Yes          Yes            Yes  NaN               NaN   \n",
            "\n",
            "   CancerHistory  Diagnosis  \n",
            "0            NaN        NaN  \n",
            "1            NaN        NaN  \n",
            "2            NaN        NaN  \n",
            "3            NaN        NaN  \n",
            "4            NaN        NaN  \n",
            "\n",
            "Last few rows of Combined Cancer Data:\n",
            "      Age Gender Smoking Genetic Risk Alcohol Intake        BMI  \\\n",
            "2495   62      M      No           No             No  25.090025   \n",
            "2496   31      F      No           No            Yes  33.447125   \n",
            "2497   63      M     Yes           No            Yes  32.613861   \n",
            "2498   55      F      No           No             No  25.568216   \n",
            "2499   67      M      No           No            Yes  23.663104   \n",
            "\n",
            "      PhysicalActivity  CancerHistory  Diagnosis  \n",
            "2495          9.892167            0.0        1.0  \n",
            "2496          1.668297            1.0        1.0  \n",
            "2497          0.466848            0.0        1.0  \n",
            "2498          7.795317            1.0        1.0  \n",
            "2499          2.525860            1.0        0.0  \n"
          ]
        }
      ],
      "source": [
        "# List to hold dataframes\n",
        "cancer_dfs = []\n",
        "\n",
        "# Load each Excel file in the directory\n",
        "for filename in os.listdir(directory):\n",
        "    if filename.endswith('.xlsx') or filename.endswith('.xls'):\n",
        "        file_path = os.path.join(directory, filename)\n",
        "        df = pd.read_excel(file_path)\n",
        "\n",
        "        if filename in ['Cancer data.xlsx', 'Cancer 2 data.xlsx']:\n",
        "            # Standardize Gender column if it exists\n",
        "            if 'Gender' in df.columns:\n",
        "                if filename == 'Cancer data.xlsx':\n",
        "                    gender_mapping = {1: 'M', 0: 'F'}\n",
        "                elif filename == 'Cancer 2 data.xlsx':\n",
        "                    gender_mapping = {1: 'M', 2: 'F'}\n",
        "                df['Gender'] = df['Gender'].map(gender_mapping)\n",
        "\n",
        "            # Standardize Smoking column if it exists\n",
        "            if 'Smoking' in df.columns:\n",
        "                if filename == 'Cancer data.xlsx':\n",
        "                    smoking_mapping = {0: 'No', 1: 'Yes'}\n",
        "                elif filename == 'Cancer 2 data.xlsx':\n",
        "                    smoking_mapping = {1: 'No', 2: 'No', 3: 'No', 4: 'No', 5: 'No', 6: 'Yes', 7: 'Yes', 8: 'Yes', 9: 'Yes', 10: 'Yes'}\n",
        "                df['Smoking'] = df['Smoking'].map(smoking_mapping)\n",
        "\n",
        "            # Standardize Genetic Risk column if it exists\n",
        "            if 'Genetic Risk' in df.columns:\n",
        "                if filename == 'Cancer data.xlsx':\n",
        "                    genetic_mapping = {0: 'No', 1: 'No', 2: 'Yes'}\n",
        "                elif filename == 'Cancer 2 data.xlsx':\n",
        "                    genetic_mapping = {1: 'No', 2: 'No', 3: 'No', 4: 'Yes', 5: 'Yes', 6: 'Yes', 7: 'Yes'}\n",
        "                df['Genetic Risk'] = df['Genetic Risk'].map(genetic_mapping)\n",
        "\n",
        "            # Standardize Alcohol Intake column if it exists\n",
        "            if 'Alcohol Intake' in df.columns:\n",
        "                if filename == 'Cancer data.xlsx':\n",
        "                    df['Alcohol Intake'] = df['Alcohol Intake'].astype(int)\n",
        "                    df['Alcohol Intake'] = df['Alcohol Intake'].apply(lambda x: 'No' if 0<x<2 else 'Yes')\n",
        "                elif filename == 'Cancer 2 data.xlsx':\n",
        "                    df['Alcohol Intake'] = df['Alcohol Intake'].astype(int)\n",
        "                    df['Alcohol Intake'] = df['Alcohol Intake'].apply(lambda x: 'No' if 0<x<3 else 'Yes')\n",
        "\n",
        "\n",
        "\n",
        "            # Append the dataframe to the list for Cancer data\n",
        "            cancer_dfs.append(df)\n",
        "\n",
        "# Combine all the dataframes\n",
        "combined_cancer_df = pd.concat(cancer_dfs, ignore_index=True)\n",
        "\n",
        "# Print the combined dataframe\n",
        "print(\"Combined Cancer Data:\")\n",
        "print(combined_cancer_df.head())\n",
        "print(\"\\nLast few rows of Combined Cancer Data:\")\n",
        "print(combined_cancer_df.tail())\n"
      ]
    },
    {
      "cell_type": "markdown",
      "metadata": {
        "id": "Y8YER7gnWk0B"
      },
      "source": [
        "#Inputting missing values"
      ]
    },
    {
      "cell_type": "code",
      "execution_count": null,
      "metadata": {
        "colab": {
          "base_uri": "https://localhost:8080/"
        },
        "id": "5sYjkt-TWjiP",
        "outputId": "467d1e21-d5e6-4155-8855-b9616009974a"
      },
      "outputs": [
        {
          "output_type": "stream",
          "name": "stdout",
          "text": [
            "Combined Cancer Data:\n",
            "    Age Gender Smoking Genetic Risk Alcohol Intake        BMI  \\\n",
            "0  33.0      M      No           No            Yes  31.423003   \n",
            "1  17.0      M      No          Yes             No  25.695442   \n",
            "2  35.0      M      No          Yes            Yes  30.641311   \n",
            "3  37.0      M     Yes          Yes            Yes  33.441209   \n",
            "4  46.0      M     Yes          Yes            Yes  25.451210   \n",
            "\n",
            "   PhysicalActivity CancerHistory Diagnosis  \n",
            "0          5.995654           nan       nan  \n",
            "1          5.525544           nan       nan  \n",
            "2          7.021610           nan       nan  \n",
            "3          6.012804           nan       nan  \n",
            "4          5.614587           nan       nan  \n",
            "\n",
            "Last few rows of Combined Cancer Data:\n",
            "       Age Gender Smoking Genetic Risk Alcohol Intake        BMI  \\\n",
            "2495  62.0      M      No           No             No  25.090025   \n",
            "2496  31.0      F      No           No            Yes  33.447125   \n",
            "2497  63.0      M     Yes           No            Yes  32.613861   \n",
            "2498  55.0      F      No           No             No  25.568216   \n",
            "2499  67.0      M      No           No            Yes  23.663104   \n",
            "\n",
            "      PhysicalActivity CancerHistory Diagnosis  \n",
            "2495          9.892167           0.0       1.0  \n",
            "2496          1.668297           1.0       1.0  \n",
            "2497          0.466848           0.0       1.0  \n",
            "2498          7.795317           1.0       1.0  \n",
            "2499          2.525860           1.0       0.0  \n"
          ]
        }
      ],
      "source": [
        "# Encode categorical variables\n",
        "label_encoders = {}\n",
        "categorical_columns = ['Gender', 'Smoking', 'Genetic Risk', 'Alcohol Intake', 'CancerHistory', 'Diagnosis']\n",
        "\n",
        "for column in categorical_columns:\n",
        "    if column in combined_cancer_df.columns:\n",
        "        le = LabelEncoder()\n",
        "        combined_cancer_df[column] = le.fit_transform(combined_cancer_df[column].astype(str))\n",
        "        label_encoders[column] = le\n",
        "\n",
        "# Initialize KNN Imputer with 5 neighbors\n",
        "imputer = KNNImputer(n_neighbors=5)\n",
        "\n",
        "# Apply the imputer to the dataframe\n",
        "df_imputed = pd.DataFrame(imputer.fit_transform(combined_cancer_df), columns=combined_cancer_df.columns)\n",
        "\n",
        "# Decode the categorical columns back to original values\n",
        "for column in categorical_columns:\n",
        "    if column in df_imputed.columns:\n",
        "        le = label_encoders[column]\n",
        "        df_imputed[column] = le.inverse_transform(df_imputed[column].astype(int))\n",
        "\n",
        "\n",
        "\n",
        "# Print the combined dataframe\n",
        "print(\"Combined Cancer Data:\")\n",
        "print(df_imputed.head())\n",
        "print(\"\\nLast few rows of Combined Cancer Data:\")\n",
        "print(df_imputed.tail())\n",
        "\n"
      ]
    },
    {
      "cell_type": "markdown",
      "metadata": {
        "id": "-_I87uGWu_4r"
      },
      "source": [
        "#Exporting The Dataset"
      ]
    },
    {
      "cell_type": "code",
      "execution_count": null,
      "metadata": {
        "colab": {
          "base_uri": "https://localhost:8080/",
          "height": 34
        },
        "id": "tcipAq-qvES-",
        "outputId": "1149fb8c-68bc-4a83-f0c1-9aef88c3907f"
      },
      "outputs": [
        {
          "output_type": "stream",
          "name": "stdout",
          "text": [
            "Combined dataset has been saved to 'Meta Cancer data.xlsx'.\n"
          ]
        },
        {
          "output_type": "display_data",
          "data": {
            "text/plain": [
              "<IPython.core.display.Javascript object>"
            ],
            "application/javascript": [
              "\n",
              "    async function download(id, filename, size) {\n",
              "      if (!google.colab.kernel.accessAllowed) {\n",
              "        return;\n",
              "      }\n",
              "      const div = document.createElement('div');\n",
              "      const label = document.createElement('label');\n",
              "      label.textContent = `Downloading \"${filename}\": `;\n",
              "      div.appendChild(label);\n",
              "      const progress = document.createElement('progress');\n",
              "      progress.max = size;\n",
              "      div.appendChild(progress);\n",
              "      document.body.appendChild(div);\n",
              "\n",
              "      const buffers = [];\n",
              "      let downloaded = 0;\n",
              "\n",
              "      const channel = await google.colab.kernel.comms.open(id);\n",
              "      // Send a message to notify the kernel that we're ready.\n",
              "      channel.send({})\n",
              "\n",
              "      for await (const message of channel.messages) {\n",
              "        // Send a message to notify the kernel that we're ready.\n",
              "        channel.send({})\n",
              "        if (message.buffers) {\n",
              "          for (const buffer of message.buffers) {\n",
              "            buffers.push(buffer);\n",
              "            downloaded += buffer.byteLength;\n",
              "            progress.value = downloaded;\n",
              "          }\n",
              "        }\n",
              "      }\n",
              "      const blob = new Blob(buffers, {type: 'application/binary'});\n",
              "      const a = document.createElement('a');\n",
              "      a.href = window.URL.createObjectURL(blob);\n",
              "      a.download = filename;\n",
              "      div.appendChild(a);\n",
              "      a.click();\n",
              "      div.remove();\n",
              "    }\n",
              "  "
            ]
          },
          "metadata": {}
        },
        {
          "output_type": "display_data",
          "data": {
            "text/plain": [
              "<IPython.core.display.Javascript object>"
            ],
            "application/javascript": [
              "download(\"download_2315d5e2-65cb-46fa-9f0a-dc55cc7f3f62\", \"Meta Cancer data.xlsx\", 136064)"
            ]
          },
          "metadata": {}
        }
      ],
      "source": [
        "file_path = 'Meta Cancer data.xlsx'\n",
        "df_imputed.to_excel('Meta Cancer data.xlsx', index=False)\n",
        "print(f\"Combined dataset has been saved to '{file_path}'.\")\n",
        "from google.colab import files  # Only for Google Colab. Comment this out if not using Colab.\n",
        "\n",
        "# Download the file\n",
        "files.download(file_path)"
      ]
    },
    {
      "cell_type": "markdown",
      "metadata": {
        "id": "D1b294nXJRpy"
      },
      "source": [
        "#Cancer Analysis"
      ]
    },
    {
      "cell_type": "markdown",
      "metadata": {
        "id": "Tegf0VhrBdqB"
      },
      "source": [
        "Importing Libraries\n"
      ]
    },
    {
      "cell_type": "code",
      "execution_count": null,
      "metadata": {
        "colab": {
          "base_uri": "https://localhost:8080/"
        },
        "id": "xHxkTK9NK51b",
        "outputId": "1b99cd92-9707-4677-8cc3-f3a5fb20642c"
      },
      "outputs": [
        {
          "output_type": "stream",
          "name": "stderr",
          "text": [
            "/usr/local/lib/python3.10/dist-packages/sklearn/linear_model/_logistic.py:460: ConvergenceWarning: lbfgs failed to converge (status=1):\n",
            "STOP: TOTAL NO. of ITERATIONS REACHED LIMIT.\n",
            "\n",
            "Increase the number of iterations (max_iter) or scale the data as shown in:\n",
            "    https://scikit-learn.org/stable/modules/preprocessing.html\n",
            "Please also refer to the documentation for alternative solver options:\n",
            "    https://scikit-learn.org/stable/modules/linear_model.html#logistic-regression\n",
            "  n_iter_i = _check_optimize_result(\n"
          ]
        },
        {
          "output_type": "execute_result",
          "data": {
            "text/plain": [
              "array([[10,  0,  0],\n",
              "       [ 0,  9,  0],\n",
              "       [ 0,  0, 11]])"
            ]
          },
          "metadata": {},
          "execution_count": 5
        }
      ],
      "source": [
        "import numpy as np\n",
        "import pandas as pd\n",
        "import matplotlib.pyplot as plt\n",
        "import seaborn as sns\n",
        "from sklearn.neighbors import KNeighborsClassifier\n",
        "from sklearn.neighbors import KNeighborsRegressor\n",
        "from sklearn.model_selection import train_test_split\n",
        "from sklearn.linear_model import LogisticRegression\n",
        "from sklearn.metrics import accuracy_score\n",
        "from sklearn.metrics import confusion_matrix\n",
        "from sklearn.metrics import classification_report\n",
        "from sklearn.datasets import load_iris\n",
        "iris = load_iris()\n",
        "X = iris.data\n",
        "y = iris.target\n",
        "X_train, X_test, y_train, y_test = train_test_split(X, y, test_size=0.2, random_state=42)\n",
        "model = LogisticRegression()\n",
        "model.fit(X_train, y_train)\n",
        "confusion_matrix(y_test, model.predict(X_test))"
      ]
    },
    {
      "cell_type": "markdown",
      "metadata": {
        "id": "6gMEIMYjBhgB"
      },
      "source": [
        "Viewing the data"
      ]
    },
    {
      "cell_type": "code",
      "execution_count": null,
      "metadata": {
        "colab": {
          "base_uri": "https://localhost:8080/",
          "height": 339
        },
        "id": "pZg4lBA8Ef1e",
        "outputId": "634e4e0c-a56c-4606-f072-8d90fe058861"
      },
      "outputs": [
        {
          "output_type": "execute_result",
          "data": {
            "text/plain": [
              "<pandas.io.formats.style.Styler at 0x7c5fa3eea0b0>"
            ],
            "text/html": [
              "<style type=\"text/css\">\n",
              "#T_75553_row0_col0, #T_75553_row0_col1, #T_75553_row0_col2, #T_75553_row0_col3, #T_75553_row0_col4, #T_75553_row1_col0, #T_75553_row1_col1, #T_75553_row1_col2, #T_75553_row1_col3, #T_75553_row1_col4, #T_75553_row2_col0, #T_75553_row2_col1, #T_75553_row2_col2, #T_75553_row2_col3, #T_75553_row2_col4, #T_75553_row3_col0, #T_75553_row3_col1, #T_75553_row3_col2, #T_75553_row3_col3, #T_75553_row3_col4, #T_75553_row4_col0, #T_75553_row4_col1, #T_75553_row4_col2, #T_75553_row4_col3, #T_75553_row4_col4, #T_75553_row5_col0, #T_75553_row5_col1, #T_75553_row5_col2, #T_75553_row5_col3, #T_75553_row5_col4, #T_75553_row6_col0, #T_75553_row6_col1, #T_75553_row6_col2, #T_75553_row6_col3, #T_75553_row6_col4, #T_75553_row7_col0, #T_75553_row7_col1, #T_75553_row7_col2, #T_75553_row7_col3, #T_75553_row7_col4, #T_75553_row8_col0, #T_75553_row8_col1, #T_75553_row8_col2, #T_75553_row8_col3, #T_75553_row8_col4 {\n",
              "  background-color: #0096c7;\n",
              "  color: white;\n",
              "  border: 1.5px solid black;\n",
              "}\n",
              "</style>\n",
              "<table id=\"T_75553\" class=\"dataframe\">\n",
              "  <thead>\n",
              "    <tr>\n",
              "      <th class=\"blank level0\" >&nbsp;</th>\n",
              "      <th id=\"T_75553_level0_col0\" class=\"col_heading level0 col0\" >0</th>\n",
              "      <th id=\"T_75553_level0_col1\" class=\"col_heading level0 col1\" >1</th>\n",
              "      <th id=\"T_75553_level0_col2\" class=\"col_heading level0 col2\" >2</th>\n",
              "      <th id=\"T_75553_level0_col3\" class=\"col_heading level0 col3\" >3</th>\n",
              "      <th id=\"T_75553_level0_col4\" class=\"col_heading level0 col4\" >4</th>\n",
              "    </tr>\n",
              "  </thead>\n",
              "  <tbody>\n",
              "    <tr>\n",
              "      <th id=\"T_75553_level0_row0\" class=\"row_heading level0 row0\" >Age</th>\n",
              "      <td id=\"T_75553_row0_col0\" class=\"data row0 col0\" >33.000000</td>\n",
              "      <td id=\"T_75553_row0_col1\" class=\"data row0 col1\" >17.000000</td>\n",
              "      <td id=\"T_75553_row0_col2\" class=\"data row0 col2\" >35.000000</td>\n",
              "      <td id=\"T_75553_row0_col3\" class=\"data row0 col3\" >37.000000</td>\n",
              "      <td id=\"T_75553_row0_col4\" class=\"data row0 col4\" >46.000000</td>\n",
              "    </tr>\n",
              "    <tr>\n",
              "      <th id=\"T_75553_level0_row1\" class=\"row_heading level0 row1\" >Gender</th>\n",
              "      <td id=\"T_75553_row1_col0\" class=\"data row1 col0\" >1.000000</td>\n",
              "      <td id=\"T_75553_row1_col1\" class=\"data row1 col1\" >1.000000</td>\n",
              "      <td id=\"T_75553_row1_col2\" class=\"data row1 col2\" >1.000000</td>\n",
              "      <td id=\"T_75553_row1_col3\" class=\"data row1 col3\" >1.000000</td>\n",
              "      <td id=\"T_75553_row1_col4\" class=\"data row1 col4\" >1.000000</td>\n",
              "    </tr>\n",
              "    <tr>\n",
              "      <th id=\"T_75553_level0_row2\" class=\"row_heading level0 row2\" >Smoking</th>\n",
              "      <td id=\"T_75553_row2_col0\" class=\"data row2 col0\" >0.000000</td>\n",
              "      <td id=\"T_75553_row2_col1\" class=\"data row2 col1\" >0.000000</td>\n",
              "      <td id=\"T_75553_row2_col2\" class=\"data row2 col2\" >0.000000</td>\n",
              "      <td id=\"T_75553_row2_col3\" class=\"data row2 col3\" >1.000000</td>\n",
              "      <td id=\"T_75553_row2_col4\" class=\"data row2 col4\" >1.000000</td>\n",
              "    </tr>\n",
              "    <tr>\n",
              "      <th id=\"T_75553_level0_row3\" class=\"row_heading level0 row3\" >Genetic Risk</th>\n",
              "      <td id=\"T_75553_row3_col0\" class=\"data row3 col0\" >0.000000</td>\n",
              "      <td id=\"T_75553_row3_col1\" class=\"data row3 col1\" >1.000000</td>\n",
              "      <td id=\"T_75553_row3_col2\" class=\"data row3 col2\" >1.000000</td>\n",
              "      <td id=\"T_75553_row3_col3\" class=\"data row3 col3\" >1.000000</td>\n",
              "      <td id=\"T_75553_row3_col4\" class=\"data row3 col4\" >1.000000</td>\n",
              "    </tr>\n",
              "    <tr>\n",
              "      <th id=\"T_75553_level0_row4\" class=\"row_heading level0 row4\" >Alcohol Intake</th>\n",
              "      <td id=\"T_75553_row4_col0\" class=\"data row4 col0\" >1.000000</td>\n",
              "      <td id=\"T_75553_row4_col1\" class=\"data row4 col1\" >0.000000</td>\n",
              "      <td id=\"T_75553_row4_col2\" class=\"data row4 col2\" >1.000000</td>\n",
              "      <td id=\"T_75553_row4_col3\" class=\"data row4 col3\" >1.000000</td>\n",
              "      <td id=\"T_75553_row4_col4\" class=\"data row4 col4\" >1.000000</td>\n",
              "    </tr>\n",
              "    <tr>\n",
              "      <th id=\"T_75553_level0_row5\" class=\"row_heading level0 row5\" >BMI</th>\n",
              "      <td id=\"T_75553_row5_col0\" class=\"data row5 col0\" >31.423003</td>\n",
              "      <td id=\"T_75553_row5_col1\" class=\"data row5 col1\" >25.695442</td>\n",
              "      <td id=\"T_75553_row5_col2\" class=\"data row5 col2\" >30.641311</td>\n",
              "      <td id=\"T_75553_row5_col3\" class=\"data row5 col3\" >33.441209</td>\n",
              "      <td id=\"T_75553_row5_col4\" class=\"data row5 col4\" >25.451210</td>\n",
              "    </tr>\n",
              "    <tr>\n",
              "      <th id=\"T_75553_level0_row6\" class=\"row_heading level0 row6\" >PhysicalActivity</th>\n",
              "      <td id=\"T_75553_row6_col0\" class=\"data row6 col0\" >5.995654</td>\n",
              "      <td id=\"T_75553_row6_col1\" class=\"data row6 col1\" >5.525544</td>\n",
              "      <td id=\"T_75553_row6_col2\" class=\"data row6 col2\" >7.021610</td>\n",
              "      <td id=\"T_75553_row6_col3\" class=\"data row6 col3\" >6.012804</td>\n",
              "      <td id=\"T_75553_row6_col4\" class=\"data row6 col4\" >5.614587</td>\n",
              "    </tr>\n",
              "    <tr>\n",
              "      <th id=\"T_75553_level0_row7\" class=\"row_heading level0 row7\" >CancerHistory</th>\n",
              "      <td id=\"T_75553_row7_col0\" class=\"data row7 col0\" >2.000000</td>\n",
              "      <td id=\"T_75553_row7_col1\" class=\"data row7 col1\" >2.000000</td>\n",
              "      <td id=\"T_75553_row7_col2\" class=\"data row7 col2\" >2.000000</td>\n",
              "      <td id=\"T_75553_row7_col3\" class=\"data row7 col3\" >2.000000</td>\n",
              "      <td id=\"T_75553_row7_col4\" class=\"data row7 col4\" >2.000000</td>\n",
              "    </tr>\n",
              "    <tr>\n",
              "      <th id=\"T_75553_level0_row8\" class=\"row_heading level0 row8\" >Diagnosis</th>\n",
              "      <td id=\"T_75553_row8_col0\" class=\"data row8 col0\" >2.000000</td>\n",
              "      <td id=\"T_75553_row8_col1\" class=\"data row8 col1\" >2.000000</td>\n",
              "      <td id=\"T_75553_row8_col2\" class=\"data row8 col2\" >2.000000</td>\n",
              "      <td id=\"T_75553_row8_col3\" class=\"data row8 col3\" >2.000000</td>\n",
              "      <td id=\"T_75553_row8_col4\" class=\"data row8 col4\" >2.000000</td>\n",
              "    </tr>\n",
              "  </tbody>\n",
              "</table>\n"
            ]
          },
          "metadata": {},
          "execution_count": 6
        }
      ],
      "source": [
        "df = pd.read_excel('/content/drive/MyDrive/Cancer Data/Meta Cancer data.xlsx')\n",
        "df.head().T.style.set_properties(**{\"background-color\": \"#0096c7\",\"color\": \"white\",\"border\": \"1.5px solid black\"})\n"
      ]
    },
    {
      "cell_type": "code",
      "execution_count": null,
      "metadata": {
        "colab": {
          "base_uri": "https://localhost:8080/",
          "height": 307
        },
        "id": "DHVtV1VVE2U_",
        "outputId": "d6a7514d-0b6e-4b47-d046-7da9452265c0"
      },
      "outputs": [
        {
          "output_type": "execute_result",
          "data": {
            "text/plain": [
              "<pandas.io.formats.style.Styler at 0x7c5fa48a8af0>"
            ],
            "text/html": [
              "<style type=\"text/css\">\n",
              "#T_0f626_row0_col0, #T_0f626_row0_col1, #T_0f626_row0_col2, #T_0f626_row0_col3, #T_0f626_row0_col4, #T_0f626_row1_col0, #T_0f626_row1_col1, #T_0f626_row1_col2, #T_0f626_row1_col3, #T_0f626_row1_col4, #T_0f626_row2_col0, #T_0f626_row2_col1, #T_0f626_row2_col2, #T_0f626_row2_col3, #T_0f626_row2_col4, #T_0f626_row3_col0, #T_0f626_row3_col1, #T_0f626_row3_col2, #T_0f626_row3_col3, #T_0f626_row3_col4, #T_0f626_row4_col0, #T_0f626_row4_col1, #T_0f626_row4_col2, #T_0f626_row4_col3, #T_0f626_row4_col4, #T_0f626_row5_col0, #T_0f626_row5_col1, #T_0f626_row5_col2, #T_0f626_row5_col3, #T_0f626_row5_col4, #T_0f626_row6_col0, #T_0f626_row6_col1, #T_0f626_row6_col2, #T_0f626_row6_col3, #T_0f626_row6_col4, #T_0f626_row7_col0, #T_0f626_row7_col1, #T_0f626_row7_col2, #T_0f626_row7_col3, #T_0f626_row7_col4 {\n",
              "  background-color: #0096c7;\n",
              "  color: white;\n",
              "  border: 1.5px solid black;\n",
              "}\n",
              "</style>\n",
              "<table id=\"T_0f626\" class=\"dataframe\">\n",
              "  <thead>\n",
              "    <tr>\n",
              "      <th class=\"blank level0\" >&nbsp;</th>\n",
              "      <th id=\"T_0f626_level0_col0\" class=\"col_heading level0 col0\" >0</th>\n",
              "      <th id=\"T_0f626_level0_col1\" class=\"col_heading level0 col1\" >1</th>\n",
              "      <th id=\"T_0f626_level0_col2\" class=\"col_heading level0 col2\" >2</th>\n",
              "      <th id=\"T_0f626_level0_col3\" class=\"col_heading level0 col3\" >3</th>\n",
              "      <th id=\"T_0f626_level0_col4\" class=\"col_heading level0 col4\" >4</th>\n",
              "    </tr>\n",
              "  </thead>\n",
              "  <tbody>\n",
              "    <tr>\n",
              "      <th id=\"T_0f626_level0_row0\" class=\"row_heading level0 row0\" >Age</th>\n",
              "      <td id=\"T_0f626_row0_col0\" class=\"data row0 col0\" >33.000000</td>\n",
              "      <td id=\"T_0f626_row0_col1\" class=\"data row0 col1\" >17.000000</td>\n",
              "      <td id=\"T_0f626_row0_col2\" class=\"data row0 col2\" >35.000000</td>\n",
              "      <td id=\"T_0f626_row0_col3\" class=\"data row0 col3\" >37.000000</td>\n",
              "      <td id=\"T_0f626_row0_col4\" class=\"data row0 col4\" >46.000000</td>\n",
              "    </tr>\n",
              "    <tr>\n",
              "      <th id=\"T_0f626_level0_row1\" class=\"row_heading level0 row1\" >Gender</th>\n",
              "      <td id=\"T_0f626_row1_col0\" class=\"data row1 col0\" >1.000000</td>\n",
              "      <td id=\"T_0f626_row1_col1\" class=\"data row1 col1\" >1.000000</td>\n",
              "      <td id=\"T_0f626_row1_col2\" class=\"data row1 col2\" >1.000000</td>\n",
              "      <td id=\"T_0f626_row1_col3\" class=\"data row1 col3\" >1.000000</td>\n",
              "      <td id=\"T_0f626_row1_col4\" class=\"data row1 col4\" >1.000000</td>\n",
              "    </tr>\n",
              "    <tr>\n",
              "      <th id=\"T_0f626_level0_row2\" class=\"row_heading level0 row2\" >Smoking</th>\n",
              "      <td id=\"T_0f626_row2_col0\" class=\"data row2 col0\" >0.000000</td>\n",
              "      <td id=\"T_0f626_row2_col1\" class=\"data row2 col1\" >0.000000</td>\n",
              "      <td id=\"T_0f626_row2_col2\" class=\"data row2 col2\" >0.000000</td>\n",
              "      <td id=\"T_0f626_row2_col3\" class=\"data row2 col3\" >1.000000</td>\n",
              "      <td id=\"T_0f626_row2_col4\" class=\"data row2 col4\" >1.000000</td>\n",
              "    </tr>\n",
              "    <tr>\n",
              "      <th id=\"T_0f626_level0_row3\" class=\"row_heading level0 row3\" >Genetic Risk</th>\n",
              "      <td id=\"T_0f626_row3_col0\" class=\"data row3 col0\" >0.000000</td>\n",
              "      <td id=\"T_0f626_row3_col1\" class=\"data row3 col1\" >1.000000</td>\n",
              "      <td id=\"T_0f626_row3_col2\" class=\"data row3 col2\" >1.000000</td>\n",
              "      <td id=\"T_0f626_row3_col3\" class=\"data row3 col3\" >1.000000</td>\n",
              "      <td id=\"T_0f626_row3_col4\" class=\"data row3 col4\" >1.000000</td>\n",
              "    </tr>\n",
              "    <tr>\n",
              "      <th id=\"T_0f626_level0_row4\" class=\"row_heading level0 row4\" >Alcohol Intake</th>\n",
              "      <td id=\"T_0f626_row4_col0\" class=\"data row4 col0\" >1.000000</td>\n",
              "      <td id=\"T_0f626_row4_col1\" class=\"data row4 col1\" >0.000000</td>\n",
              "      <td id=\"T_0f626_row4_col2\" class=\"data row4 col2\" >1.000000</td>\n",
              "      <td id=\"T_0f626_row4_col3\" class=\"data row4 col3\" >1.000000</td>\n",
              "      <td id=\"T_0f626_row4_col4\" class=\"data row4 col4\" >1.000000</td>\n",
              "    </tr>\n",
              "    <tr>\n",
              "      <th id=\"T_0f626_level0_row5\" class=\"row_heading level0 row5\" >BMI</th>\n",
              "      <td id=\"T_0f626_row5_col0\" class=\"data row5 col0\" >31.423003</td>\n",
              "      <td id=\"T_0f626_row5_col1\" class=\"data row5 col1\" >25.695442</td>\n",
              "      <td id=\"T_0f626_row5_col2\" class=\"data row5 col2\" >30.641311</td>\n",
              "      <td id=\"T_0f626_row5_col3\" class=\"data row5 col3\" >33.441209</td>\n",
              "      <td id=\"T_0f626_row5_col4\" class=\"data row5 col4\" >25.451210</td>\n",
              "    </tr>\n",
              "    <tr>\n",
              "      <th id=\"T_0f626_level0_row6\" class=\"row_heading level0 row6\" >PhysicalActivity</th>\n",
              "      <td id=\"T_0f626_row6_col0\" class=\"data row6 col0\" >5.995654</td>\n",
              "      <td id=\"T_0f626_row6_col1\" class=\"data row6 col1\" >5.525544</td>\n",
              "      <td id=\"T_0f626_row6_col2\" class=\"data row6 col2\" >7.021610</td>\n",
              "      <td id=\"T_0f626_row6_col3\" class=\"data row6 col3\" >6.012804</td>\n",
              "      <td id=\"T_0f626_row6_col4\" class=\"data row6 col4\" >5.614587</td>\n",
              "    </tr>\n",
              "    <tr>\n",
              "      <th id=\"T_0f626_level0_row7\" class=\"row_heading level0 row7\" >CancerHistory</th>\n",
              "      <td id=\"T_0f626_row7_col0\" class=\"data row7 col0\" >2.000000</td>\n",
              "      <td id=\"T_0f626_row7_col1\" class=\"data row7 col1\" >2.000000</td>\n",
              "      <td id=\"T_0f626_row7_col2\" class=\"data row7 col2\" >2.000000</td>\n",
              "      <td id=\"T_0f626_row7_col3\" class=\"data row7 col3\" >2.000000</td>\n",
              "      <td id=\"T_0f626_row7_col4\" class=\"data row7 col4\" >2.000000</td>\n",
              "    </tr>\n",
              "  </tbody>\n",
              "</table>\n"
            ]
          },
          "metadata": {},
          "execution_count": 7
        }
      ],
      "source": [
        "cancer = df.drop(['Diagnosis'], axis=1)\n",
        "cancer.head().T.style.set_properties(**{\"background-color\": \"#0096c7\",\"color\": \"white\",\"border\": \"1.5px solid black\"})"
      ]
    },
    {
      "cell_type": "code",
      "execution_count": null,
      "metadata": {
        "id": "7velvGGkE88z"
      },
      "outputs": [],
      "source": [
        "cancer.dropna(inplace=True)"
      ]
    },
    {
      "cell_type": "code",
      "execution_count": null,
      "metadata": {
        "colab": {
          "base_uri": "https://localhost:8080/"
        },
        "id": "dkXlIAydE_mV",
        "outputId": "6f4157bf-640b-4fd7-d528-640e0b8cedb6"
      },
      "outputs": [
        {
          "output_type": "execute_result",
          "data": {
            "text/plain": [
              "(2500, 8)"
            ]
          },
          "metadata": {},
          "execution_count": 9
        }
      ],
      "source": [
        "cancer.shape"
      ]
    },
    {
      "cell_type": "markdown",
      "metadata": {
        "id": "jutucstbFJkU"
      },
      "source": []
    },
    {
      "cell_type": "markdown",
      "metadata": {
        "id": "xkFgE6mJFF5z"
      },
      "source": [
        "Datatype"
      ]
    },
    {
      "cell_type": "code",
      "execution_count": null,
      "metadata": {
        "colab": {
          "base_uri": "https://localhost:8080/"
        },
        "id": "-OnqZ-vKFIIU",
        "outputId": "0c09b464-6547-46a1-ddbb-804ac63d2ca5"
      },
      "outputs": [
        {
          "output_type": "stream",
          "name": "stdout",
          "text": [
            "<class 'pandas.core.frame.DataFrame'>\n",
            "RangeIndex: 2500 entries, 0 to 2499\n",
            "Data columns (total 8 columns):\n",
            " #   Column            Non-Null Count  Dtype  \n",
            "---  ------            --------------  -----  \n",
            " 0   Age               2500 non-null   int64  \n",
            " 1   Gender            2500 non-null   int64  \n",
            " 2   Smoking           2500 non-null   int64  \n",
            " 3   Genetic Risk      2500 non-null   int64  \n",
            " 4   Alcohol Intake    2500 non-null   int64  \n",
            " 5   BMI               2500 non-null   float64\n",
            " 6   PhysicalActivity  2500 non-null   float64\n",
            " 7   CancerHistory     2500 non-null   int64  \n",
            "dtypes: float64(2), int64(6)\n",
            "memory usage: 156.4 KB\n"
          ]
        }
      ],
      "source": [
        "cancer.info()"
      ]
    },
    {
      "cell_type": "code",
      "execution_count": null,
      "metadata": {
        "colab": {
          "base_uri": "https://localhost:8080/",
          "height": 307
        },
        "id": "AZ133Fu1FPjM",
        "outputId": "ff6c4804-c9d8-42cb-8002-7d423dc5aa3f"
      },
      "outputs": [
        {
          "output_type": "execute_result",
          "data": {
            "text/plain": [
              "<pandas.io.formats.style.Styler at 0x7c5fa3eea050>"
            ],
            "text/html": [
              "<style type=\"text/css\">\n",
              "#T_9e1f6_row0_col0, #T_9e1f6_row0_col1, #T_9e1f6_row0_col2, #T_9e1f6_row0_col3, #T_9e1f6_row0_col4, #T_9e1f6_row0_col5, #T_9e1f6_row0_col6, #T_9e1f6_row0_col7, #T_9e1f6_row1_col0, #T_9e1f6_row1_col1, #T_9e1f6_row1_col2, #T_9e1f6_row1_col3, #T_9e1f6_row1_col4, #T_9e1f6_row1_col5, #T_9e1f6_row1_col6, #T_9e1f6_row1_col7, #T_9e1f6_row2_col0, #T_9e1f6_row2_col1, #T_9e1f6_row2_col2, #T_9e1f6_row2_col3, #T_9e1f6_row2_col4, #T_9e1f6_row2_col5, #T_9e1f6_row2_col6, #T_9e1f6_row2_col7, #T_9e1f6_row3_col0, #T_9e1f6_row3_col1, #T_9e1f6_row3_col2, #T_9e1f6_row3_col3, #T_9e1f6_row3_col4, #T_9e1f6_row3_col5, #T_9e1f6_row3_col6, #T_9e1f6_row3_col7, #T_9e1f6_row4_col0, #T_9e1f6_row4_col1, #T_9e1f6_row4_col2, #T_9e1f6_row4_col3, #T_9e1f6_row4_col4, #T_9e1f6_row4_col5, #T_9e1f6_row4_col6, #T_9e1f6_row4_col7, #T_9e1f6_row5_col0, #T_9e1f6_row5_col1, #T_9e1f6_row5_col2, #T_9e1f6_row5_col3, #T_9e1f6_row5_col4, #T_9e1f6_row5_col5, #T_9e1f6_row5_col6, #T_9e1f6_row5_col7, #T_9e1f6_row6_col0, #T_9e1f6_row6_col1, #T_9e1f6_row6_col2, #T_9e1f6_row6_col3, #T_9e1f6_row6_col4, #T_9e1f6_row6_col5, #T_9e1f6_row6_col6, #T_9e1f6_row6_col7, #T_9e1f6_row7_col0, #T_9e1f6_row7_col1, #T_9e1f6_row7_col2, #T_9e1f6_row7_col3, #T_9e1f6_row7_col4, #T_9e1f6_row7_col5, #T_9e1f6_row7_col6, #T_9e1f6_row7_col7 {\n",
              "  background-color: #0096c7;\n",
              "  color: white;\n",
              "  border: 1.5px solid black;\n",
              "}\n",
              "</style>\n",
              "<table id=\"T_9e1f6\" class=\"dataframe\">\n",
              "  <thead>\n",
              "    <tr>\n",
              "      <th class=\"blank level0\" >&nbsp;</th>\n",
              "      <th id=\"T_9e1f6_level0_col0\" class=\"col_heading level0 col0\" >count</th>\n",
              "      <th id=\"T_9e1f6_level0_col1\" class=\"col_heading level0 col1\" >mean</th>\n",
              "      <th id=\"T_9e1f6_level0_col2\" class=\"col_heading level0 col2\" >std</th>\n",
              "      <th id=\"T_9e1f6_level0_col3\" class=\"col_heading level0 col3\" >min</th>\n",
              "      <th id=\"T_9e1f6_level0_col4\" class=\"col_heading level0 col4\" >25%</th>\n",
              "      <th id=\"T_9e1f6_level0_col5\" class=\"col_heading level0 col5\" >50%</th>\n",
              "      <th id=\"T_9e1f6_level0_col6\" class=\"col_heading level0 col6\" >75%</th>\n",
              "      <th id=\"T_9e1f6_level0_col7\" class=\"col_heading level0 col7\" >max</th>\n",
              "    </tr>\n",
              "  </thead>\n",
              "  <tbody>\n",
              "    <tr>\n",
              "      <th id=\"T_9e1f6_level0_row0\" class=\"row_heading level0 row0\" >Age</th>\n",
              "      <td id=\"T_9e1f6_row0_col0\" class=\"data row0 col0\" >2500.000000</td>\n",
              "      <td id=\"T_9e1f6_row0_col1\" class=\"data row0 col1\" >45.061600</td>\n",
              "      <td id=\"T_9e1f6_row0_col2\" class=\"data row0 col2\" >16.905127</td>\n",
              "      <td id=\"T_9e1f6_row0_col3\" class=\"data row0 col3\" >14.000000</td>\n",
              "      <td id=\"T_9e1f6_row0_col4\" class=\"data row0 col4\" >32.000000</td>\n",
              "      <td id=\"T_9e1f6_row0_col5\" class=\"data row0 col5\" >44.000000</td>\n",
              "      <td id=\"T_9e1f6_row0_col6\" class=\"data row0 col6\" >58.000000</td>\n",
              "      <td id=\"T_9e1f6_row0_col7\" class=\"data row0 col7\" >80.000000</td>\n",
              "    </tr>\n",
              "    <tr>\n",
              "      <th id=\"T_9e1f6_level0_row1\" class=\"row_heading level0 row1\" >Gender</th>\n",
              "      <td id=\"T_9e1f6_row1_col0\" class=\"data row1 col0\" >2500.000000</td>\n",
              "      <td id=\"T_9e1f6_row1_col1\" class=\"data row1 col1\" >0.533600</td>\n",
              "      <td id=\"T_9e1f6_row1_col2\" class=\"data row1 col2\" >0.498970</td>\n",
              "      <td id=\"T_9e1f6_row1_col3\" class=\"data row1 col3\" >0.000000</td>\n",
              "      <td id=\"T_9e1f6_row1_col4\" class=\"data row1 col4\" >0.000000</td>\n",
              "      <td id=\"T_9e1f6_row1_col5\" class=\"data row1 col5\" >1.000000</td>\n",
              "      <td id=\"T_9e1f6_row1_col6\" class=\"data row1 col6\" >1.000000</td>\n",
              "      <td id=\"T_9e1f6_row1_col7\" class=\"data row1 col7\" >1.000000</td>\n",
              "    </tr>\n",
              "    <tr>\n",
              "      <th id=\"T_9e1f6_level0_row2\" class=\"row_heading level0 row2\" >Smoking</th>\n",
              "      <td id=\"T_9e1f6_row2_col0\" class=\"data row2 col0\" >2500.000000</td>\n",
              "      <td id=\"T_9e1f6_row2_col1\" class=\"data row2 col1\" >0.304000</td>\n",
              "      <td id=\"T_9e1f6_row2_col2\" class=\"data row2 col2\" >0.460075</td>\n",
              "      <td id=\"T_9e1f6_row2_col3\" class=\"data row2 col3\" >0.000000</td>\n",
              "      <td id=\"T_9e1f6_row2_col4\" class=\"data row2 col4\" >0.000000</td>\n",
              "      <td id=\"T_9e1f6_row2_col5\" class=\"data row2 col5\" >0.000000</td>\n",
              "      <td id=\"T_9e1f6_row2_col6\" class=\"data row2 col6\" >1.000000</td>\n",
              "      <td id=\"T_9e1f6_row2_col7\" class=\"data row2 col7\" >1.000000</td>\n",
              "    </tr>\n",
              "    <tr>\n",
              "      <th id=\"T_9e1f6_level0_row3\" class=\"row_heading level0 row3\" >Genetic Risk</th>\n",
              "      <td id=\"T_9e1f6_row3_col0\" class=\"data row3 col0\" >2500.000000</td>\n",
              "      <td id=\"T_9e1f6_row3_col1\" class=\"data row3 col1\" >0.293200</td>\n",
              "      <td id=\"T_9e1f6_row3_col2\" class=\"data row3 col2\" >0.455320</td>\n",
              "      <td id=\"T_9e1f6_row3_col3\" class=\"data row3 col3\" >0.000000</td>\n",
              "      <td id=\"T_9e1f6_row3_col4\" class=\"data row3 col4\" >0.000000</td>\n",
              "      <td id=\"T_9e1f6_row3_col5\" class=\"data row3 col5\" >0.000000</td>\n",
              "      <td id=\"T_9e1f6_row3_col6\" class=\"data row3 col6\" >1.000000</td>\n",
              "      <td id=\"T_9e1f6_row3_col7\" class=\"data row3 col7\" >1.000000</td>\n",
              "    </tr>\n",
              "    <tr>\n",
              "      <th id=\"T_9e1f6_level0_row4\" class=\"row_heading level0 row4\" >Alcohol Intake</th>\n",
              "      <td id=\"T_9e1f6_row4_col0\" class=\"data row4 col0\" >2500.000000</td>\n",
              "      <td id=\"T_9e1f6_row4_col1\" class=\"data row4 col1\" >0.736400</td>\n",
              "      <td id=\"T_9e1f6_row4_col2\" class=\"data row4 col2\" >0.440673</td>\n",
              "      <td id=\"T_9e1f6_row4_col3\" class=\"data row4 col3\" >0.000000</td>\n",
              "      <td id=\"T_9e1f6_row4_col4\" class=\"data row4 col4\" >0.000000</td>\n",
              "      <td id=\"T_9e1f6_row4_col5\" class=\"data row4 col5\" >1.000000</td>\n",
              "      <td id=\"T_9e1f6_row4_col6\" class=\"data row4 col6\" >1.000000</td>\n",
              "      <td id=\"T_9e1f6_row4_col7\" class=\"data row4 col7\" >1.000000</td>\n",
              "    </tr>\n",
              "    <tr>\n",
              "      <th id=\"T_9e1f6_level0_row5\" class=\"row_heading level0 row5\" >BMI</th>\n",
              "      <td id=\"T_9e1f6_row5_col0\" class=\"data row5 col0\" >2500.000000</td>\n",
              "      <td id=\"T_9e1f6_row5_col1\" class=\"data row5 col1\" >28.110135</td>\n",
              "      <td id=\"T_9e1f6_row5_col2\" class=\"data row5 col2\" >5.947630</td>\n",
              "      <td id=\"T_9e1f6_row5_col3\" class=\"data row5 col3\" >15.000291</td>\n",
              "      <td id=\"T_9e1f6_row5_col4\" class=\"data row5 col4\" >24.224164</td>\n",
              "      <td id=\"T_9e1f6_row5_col5\" class=\"data row5 col5\" >28.613237</td>\n",
              "      <td id=\"T_9e1f6_row5_col6\" class=\"data row5 col6\" >32.381574</td>\n",
              "      <td id=\"T_9e1f6_row5_col7\" class=\"data row5 col7\" >39.958688</td>\n",
              "    </tr>\n",
              "    <tr>\n",
              "      <th id=\"T_9e1f6_level0_row6\" class=\"row_heading level0 row6\" >PhysicalActivity</th>\n",
              "      <td id=\"T_9e1f6_row6_col0\" class=\"data row6 col0\" >2500.000000</td>\n",
              "      <td id=\"T_9e1f6_row6_col1\" class=\"data row6 col1\" >4.994902</td>\n",
              "      <td id=\"T_9e1f6_row6_col2\" class=\"data row6 col2\" >2.329983</td>\n",
              "      <td id=\"T_9e1f6_row6_col3\" class=\"data row6 col3\" >0.002410</td>\n",
              "      <td id=\"T_9e1f6_row6_col4\" class=\"data row6 col4\" >3.509092</td>\n",
              "      <td id=\"T_9e1f6_row6_col5\" class=\"data row6 col5\" >5.074760</td>\n",
              "      <td id=\"T_9e1f6_row6_col6\" class=\"data row6 col6\" >6.236522</td>\n",
              "      <td id=\"T_9e1f6_row6_col7\" class=\"data row6 col7\" >9.994607</td>\n",
              "    </tr>\n",
              "    <tr>\n",
              "      <th id=\"T_9e1f6_level0_row7\" class=\"row_heading level0 row7\" >CancerHistory</th>\n",
              "      <td id=\"T_9e1f6_row7_col0\" class=\"data row7 col0\" >2500.000000</td>\n",
              "      <td id=\"T_9e1f6_row7_col1\" class=\"data row7 col1\" >0.886400</td>\n",
              "      <td id=\"T_9e1f6_row7_col2\" class=\"data row7 col2\" >0.949239</td>\n",
              "      <td id=\"T_9e1f6_row7_col3\" class=\"data row7 col3\" >0.000000</td>\n",
              "      <td id=\"T_9e1f6_row7_col4\" class=\"data row7 col4\" >0.000000</td>\n",
              "      <td id=\"T_9e1f6_row7_col5\" class=\"data row7 col5\" >0.000000</td>\n",
              "      <td id=\"T_9e1f6_row7_col6\" class=\"data row7 col6\" >2.000000</td>\n",
              "      <td id=\"T_9e1f6_row7_col7\" class=\"data row7 col7\" >2.000000</td>\n",
              "    </tr>\n",
              "  </tbody>\n",
              "</table>\n"
            ]
          },
          "metadata": {},
          "execution_count": 11
        }
      ],
      "source": [
        "cancer.describe().T.style.set_properties(**{\"background-color\": \"#0096c7\",\"color\": \"white\",\"border\": \"1.5px solid black\"})"
      ]
    },
    {
      "cell_type": "code",
      "execution_count": null,
      "metadata": {
        "colab": {
          "base_uri": "https://localhost:8080/",
          "height": 335
        },
        "id": "9i1RMw3zFS5t",
        "outputId": "f6c63699-5a0d-41a6-a421-dc720ad1dbc6"
      },
      "outputs": [
        {
          "output_type": "execute_result",
          "data": {
            "text/plain": [
              "Age                 0\n",
              "Gender              0\n",
              "Smoking             0\n",
              "Genetic Risk        0\n",
              "Alcohol Intake      0\n",
              "BMI                 0\n",
              "PhysicalActivity    0\n",
              "CancerHistory       0\n",
              "dtype: int64"
            ],
            "text/html": [
              "<table border=\"1\" class=\"dataframe\">\n",
              "  <thead>\n",
              "    <tr style=\"text-align: right;\">\n",
              "      <th></th>\n",
              "      <th>0</th>\n",
              "    </tr>\n",
              "  </thead>\n",
              "  <tbody>\n",
              "    <tr>\n",
              "      <th>Age</th>\n",
              "      <td>0</td>\n",
              "    </tr>\n",
              "    <tr>\n",
              "      <th>Gender</th>\n",
              "      <td>0</td>\n",
              "    </tr>\n",
              "    <tr>\n",
              "      <th>Smoking</th>\n",
              "      <td>0</td>\n",
              "    </tr>\n",
              "    <tr>\n",
              "      <th>Genetic Risk</th>\n",
              "      <td>0</td>\n",
              "    </tr>\n",
              "    <tr>\n",
              "      <th>Alcohol Intake</th>\n",
              "      <td>0</td>\n",
              "    </tr>\n",
              "    <tr>\n",
              "      <th>BMI</th>\n",
              "      <td>0</td>\n",
              "    </tr>\n",
              "    <tr>\n",
              "      <th>PhysicalActivity</th>\n",
              "      <td>0</td>\n",
              "    </tr>\n",
              "    <tr>\n",
              "      <th>CancerHistory</th>\n",
              "      <td>0</td>\n",
              "    </tr>\n",
              "  </tbody>\n",
              "</table><br><label><b>dtype:</b> int64</label>"
            ]
          },
          "metadata": {},
          "execution_count": 12
        }
      ],
      "source": [
        "cancer.isnull().sum()"
      ]
    },
    {
      "cell_type": "code",
      "execution_count": null,
      "metadata": {
        "colab": {
          "base_uri": "https://localhost:8080/",
          "height": 428
        },
        "id": "Eck9L7TFFbn6",
        "outputId": "0e113bd3-d27a-4f0a-e235-057a61de0749"
      },
      "outputs": [
        {
          "output_type": "execute_result",
          "data": {
            "text/plain": [
              "<Axes: ylabel='Age'>"
            ]
          },
          "metadata": {},
          "execution_count": 13
        },
        {
          "output_type": "display_data",
          "data": {
            "text/plain": [
              "<Figure size 640x480 with 1 Axes>"
            ],
            "image/png": "[encoded data removed]"
          },
          "metadata": {}
        }
      ],
      "source": [
        "sns.boxplot(cancer['Age'])"
      ]
    },
    {
      "cell_type": "code",
      "execution_count": null,
      "metadata": {
        "colab": {
          "base_uri": "https://localhost:8080/",
          "height": 300
        },
        "id": "ZXfIlERnFfXF",
        "outputId": "504f5dec-dcfb-4b4f-d14c-9195beb2312b"
      },
      "outputs": [
        {
          "output_type": "execute_result",
          "data": {
            "text/plain": [
              "<pandas.io.formats.style.Styler at 0x7c5fa43ee980>"
            ],
            "text/html": [
              "<style type=\"text/css\">\n",
              "#T_1dd8b_row0_col0, #T_1dd8b_row1_col1, #T_1dd8b_row2_col2, #T_1dd8b_row3_col3, #T_1dd8b_row4_col4, #T_1dd8b_row5_col5, #T_1dd8b_row6_col6, #T_1dd8b_row7_col7 {\n",
              "  background-color: #b40426;\n",
              "  color: #f1f1f1;\n",
              "}\n",
              "#T_1dd8b_row0_col1 {\n",
              "  background-color: #3d50c3;\n",
              "  color: #f1f1f1;\n",
              "}\n",
              "#T_1dd8b_row0_col2 {\n",
              "  background-color: #4055c8;\n",
              "  color: #f1f1f1;\n",
              "}\n",
              "#T_1dd8b_row0_col3, #T_1dd8b_row0_col7, #T_1dd8b_row2_col5, #T_1dd8b_row2_col6, #T_1dd8b_row5_col1, #T_1dd8b_row6_col2, #T_1dd8b_row7_col0, #T_1dd8b_row7_col4 {\n",
              "  background-color: #3b4cc0;\n",
              "  color: #f1f1f1;\n",
              "}\n",
              "#T_1dd8b_row0_col4 {\n",
              "  background-color: #86a9fc;\n",
              "  color: #f1f1f1;\n",
              "}\n",
              "#T_1dd8b_row0_col5, #T_1dd8b_row1_col5 {\n",
              "  background-color: #3c4ec2;\n",
              "  color: #f1f1f1;\n",
              "}\n",
              "#T_1dd8b_row0_col6 {\n",
              "  background-color: #4961d2;\n",
              "  color: #f1f1f1;\n",
              "}\n",
              "#T_1dd8b_row1_col0, #T_1dd8b_row6_col0 {\n",
              "  background-color: #98b9ff;\n",
              "  color: #000000;\n",
              "}\n",
              "#T_1dd8b_row1_col2 {\n",
              "  background-color: #6485ec;\n",
              "  color: #f1f1f1;\n",
              "}\n",
              "#T_1dd8b_row1_col3 {\n",
              "  background-color: #92b4fe;\n",
              "  color: #000000;\n",
              "}\n",
              "#T_1dd8b_row1_col4 {\n",
              "  background-color: #85a8fc;\n",
              "  color: #f1f1f1;\n",
              "}\n",
              "#T_1dd8b_row1_col6 {\n",
              "  background-color: #516ddb;\n",
              "  color: #f1f1f1;\n",
              "}\n",
              "#T_1dd8b_row1_col7 {\n",
              "  background-color: #aec9fc;\n",
              "  color: #000000;\n",
              "}\n",
              "#T_1dd8b_row2_col0, #T_1dd8b_row2_col4 {\n",
              "  background-color: #90b2fe;\n",
              "  color: #000000;\n",
              "}\n",
              "#T_1dd8b_row2_col1 {\n",
              "  background-color: #5875e1;\n",
              "  color: #f1f1f1;\n",
              "}\n",
              "#T_1dd8b_row2_col3 {\n",
              "  background-color: #b7cff9;\n",
              "  color: #000000;\n",
              "}\n",
              "#T_1dd8b_row2_col7 {\n",
              "  background-color: #abc8fd;\n",
              "  color: #000000;\n",
              "}\n",
              "#T_1dd8b_row3_col0, #T_1dd8b_row5_col4 {\n",
              "  background-color: #688aef;\n",
              "  color: #f1f1f1;\n",
              "}\n",
              "#T_1dd8b_row3_col1 {\n",
              "  background-color: #6282ea;\n",
              "  color: #f1f1f1;\n",
              "}\n",
              "#T_1dd8b_row3_col2 {\n",
              "  background-color: #9bbcff;\n",
              "  color: #000000;\n",
              "}\n",
              "#T_1dd8b_row3_col4 {\n",
              "  background-color: #adc9fd;\n",
              "  color: #000000;\n",
              "}\n",
              "#T_1dd8b_row3_col5 {\n",
              "  background-color: #506bda;\n",
              "  color: #f1f1f1;\n",
              "}\n",
              "#T_1dd8b_row3_col6 {\n",
              "  background-color: #4e68d8;\n",
              "  color: #f1f1f1;\n",
              "}\n",
              "#T_1dd8b_row3_col7 {\n",
              "  background-color: #f4c6af;\n",
              "  color: #000000;\n",
              "}\n",
              "#T_1dd8b_row4_col0, #T_1dd8b_row5_col7 {\n",
              "  background-color: #b1cbfc;\n",
              "  color: #000000;\n",
              "}\n",
              "#T_1dd8b_row4_col1 {\n",
              "  background-color: #5977e3;\n",
              "  color: #f1f1f1;\n",
              "}\n",
              "#T_1dd8b_row4_col2 {\n",
              "  background-color: #7396f5;\n",
              "  color: #f1f1f1;\n",
              "}\n",
              "#T_1dd8b_row4_col3 {\n",
              "  background-color: #afcafc;\n",
              "  color: #000000;\n",
              "}\n",
              "#T_1dd8b_row4_col5 {\n",
              "  background-color: #3e51c5;\n",
              "  color: #f1f1f1;\n",
              "}\n",
              "#T_1dd8b_row4_col6 {\n",
              "  background-color: #455cce;\n",
              "  color: #f1f1f1;\n",
              "}\n",
              "#T_1dd8b_row4_col7 {\n",
              "  background-color: #6c8ff1;\n",
              "  color: #f1f1f1;\n",
              "}\n",
              "#T_1dd8b_row5_col0 {\n",
              "  background-color: #96b7ff;\n",
              "  color: #000000;\n",
              "}\n",
              "#T_1dd8b_row5_col2 {\n",
              "  background-color: #465ecf;\n",
              "  color: #f1f1f1;\n",
              "}\n",
              "#T_1dd8b_row5_col3 {\n",
              "  background-color: #80a3fa;\n",
              "  color: #f1f1f1;\n",
              "}\n",
              "#T_1dd8b_row5_col6 {\n",
              "  background-color: #4f69d9;\n",
              "  color: #f1f1f1;\n",
              "}\n",
              "#T_1dd8b_row6_col1 {\n",
              "  background-color: #445acc;\n",
              "  color: #f1f1f1;\n",
              "}\n",
              "#T_1dd8b_row6_col3 {\n",
              "  background-color: #7295f4;\n",
              "  color: #f1f1f1;\n",
              "}\n",
              "#T_1dd8b_row6_col4 {\n",
              "  background-color: #6687ed;\n",
              "  color: #f1f1f1;\n",
              "}\n",
              "#T_1dd8b_row6_col5 {\n",
              "  background-color: #4358cb;\n",
              "  color: #f1f1f1;\n",
              "}\n",
              "#T_1dd8b_row6_col7 {\n",
              "  background-color: #a1c0ff;\n",
              "  color: #000000;\n",
              "}\n",
              "#T_1dd8b_row7_col1 {\n",
              "  background-color: #5673e0;\n",
              "  color: #f1f1f1;\n",
              "}\n",
              "#T_1dd8b_row7_col2 {\n",
              "  background-color: #6180e9;\n",
              "  color: #f1f1f1;\n",
              "}\n",
              "#T_1dd8b_row7_col3 {\n",
              "  background-color: #ead4c8;\n",
              "  color: #000000;\n",
              "}\n",
              "#T_1dd8b_row7_col5 {\n",
              "  background-color: #5b7ae5;\n",
              "  color: #f1f1f1;\n",
              "}\n",
              "#T_1dd8b_row7_col6 {\n",
              "  background-color: #5470de;\n",
              "  color: #f1f1f1;\n",
              "}\n",
              "</style>\n",
              "<table id=\"T_1dd8b\" class=\"dataframe\">\n",
              "  <thead>\n",
              "    <tr>\n",
              "      <th class=\"blank level0\" >&nbsp;</th>\n",
              "      <th id=\"T_1dd8b_level0_col0\" class=\"col_heading level0 col0\" >Age</th>\n",
              "      <th id=\"T_1dd8b_level0_col1\" class=\"col_heading level0 col1\" >Gender</th>\n",
              "      <th id=\"T_1dd8b_level0_col2\" class=\"col_heading level0 col2\" >Smoking</th>\n",
              "      <th id=\"T_1dd8b_level0_col3\" class=\"col_heading level0 col3\" >Genetic Risk</th>\n",
              "      <th id=\"T_1dd8b_level0_col4\" class=\"col_heading level0 col4\" >Alcohol Intake</th>\n",
              "      <th id=\"T_1dd8b_level0_col5\" class=\"col_heading level0 col5\" >BMI</th>\n",
              "      <th id=\"T_1dd8b_level0_col6\" class=\"col_heading level0 col6\" >PhysicalActivity</th>\n",
              "      <th id=\"T_1dd8b_level0_col7\" class=\"col_heading level0 col7\" >CancerHistory</th>\n",
              "    </tr>\n",
              "  </thead>\n",
              "  <tbody>\n",
              "    <tr>\n",
              "      <th id=\"T_1dd8b_level0_row0\" class=\"row_heading level0 row0\" >Age</th>\n",
              "      <td id=\"T_1dd8b_row0_col0\" class=\"data row0 col0\" >1.000000</td>\n",
              "      <td id=\"T_1dd8b_row0_col1\" class=\"data row0 col1\" >0.020723</td>\n",
              "      <td id=\"T_1dd8b_row0_col2\" class=\"data row0 col2\" >-0.011515</td>\n",
              "      <td id=\"T_1dd8b_row0_col3\" class=\"data row0 col3\" >-0.168759</td>\n",
              "      <td id=\"T_1dd8b_row0_col4\" class=\"data row0 col4\" >0.116809</td>\n",
              "      <td id=\"T_1dd8b_row0_col5\" class=\"data row0 col5\" >0.010811</td>\n",
              "      <td id=\"T_1dd8b_row0_col6\" class=\"data row0 col6\" >0.017397</td>\n",
              "      <td id=\"T_1dd8b_row0_col7\" class=\"data row0 col7\" >-0.367605</td>\n",
              "    </tr>\n",
              "    <tr>\n",
              "      <th id=\"T_1dd8b_level0_row1\" class=\"row_heading level0 row1\" >Gender</th>\n",
              "      <td id=\"T_1dd8b_row1_col0\" class=\"data row1 col0\" >0.020723</td>\n",
              "      <td id=\"T_1dd8b_row1_col1\" class=\"data row1 col1\" >1.000000</td>\n",
              "      <td id=\"T_1dd8b_row1_col2\" class=\"data row1 col2\" >0.105397</td>\n",
              "      <td id=\"T_1dd8b_row1_col3\" class=\"data row1 col3\" >0.138919</td>\n",
              "      <td id=\"T_1dd8b_row1_col4\" class=\"data row1 col4\" >0.110362</td>\n",
              "      <td id=\"T_1dd8b_row1_col5\" class=\"data row1 col5\" >0.012429</td>\n",
              "      <td id=\"T_1dd8b_row1_col6\" class=\"data row1 col6\" >0.044262</td>\n",
              "      <td id=\"T_1dd8b_row1_col7\" class=\"data row1 col7\" >0.102686</td>\n",
              "    </tr>\n",
              "    <tr>\n",
              "      <th id=\"T_1dd8b_level0_row2\" class=\"row_heading level0 row2\" >Smoking</th>\n",
              "      <td id=\"T_1dd8b_row2_col0\" class=\"data row2 col0\" >-0.011515</td>\n",
              "      <td id=\"T_1dd8b_row2_col1\" class=\"data row2 col1\" >0.105397</td>\n",
              "      <td id=\"T_1dd8b_row2_col2\" class=\"data row2 col2\" >1.000000</td>\n",
              "      <td id=\"T_1dd8b_row2_col3\" class=\"data row2 col3\" >0.265845</td>\n",
              "      <td id=\"T_1dd8b_row2_col4\" class=\"data row2 col4\" >0.148693</td>\n",
              "      <td id=\"T_1dd8b_row2_col5\" class=\"data row2 col5\" >0.006196</td>\n",
              "      <td id=\"T_1dd8b_row2_col6\" class=\"data row2 col6\" >-0.034327</td>\n",
              "      <td id=\"T_1dd8b_row2_col7\" class=\"data row2 col7\" >0.091936</td>\n",
              "    </tr>\n",
              "    <tr>\n",
              "      <th id=\"T_1dd8b_level0_row3\" class=\"row_heading level0 row3\" >Genetic Risk</th>\n",
              "      <td id=\"T_1dd8b_row3_col0\" class=\"data row3 col0\" >-0.168759</td>\n",
              "      <td id=\"T_1dd8b_row3_col1\" class=\"data row3 col1\" >0.138919</td>\n",
              "      <td id=\"T_1dd8b_row3_col2\" class=\"data row3 col2\" >0.265845</td>\n",
              "      <td id=\"T_1dd8b_row3_col3\" class=\"data row3 col3\" >1.000000</td>\n",
              "      <td id=\"T_1dd8b_row3_col4\" class=\"data row3 col4\" >0.241752</td>\n",
              "      <td id=\"T_1dd8b_row3_col5\" class=\"data row3 col5\" >0.079816</td>\n",
              "      <td id=\"T_1dd8b_row3_col6\" class=\"data row3 col6\" >0.032156</td>\n",
              "      <td id=\"T_1dd8b_row3_col7\" class=\"data row3 col7\" >0.479839</td>\n",
              "    </tr>\n",
              "    <tr>\n",
              "      <th id=\"T_1dd8b_level0_row4\" class=\"row_heading level0 row4\" >Alcohol Intake</th>\n",
              "      <td id=\"T_1dd8b_row4_col0\" class=\"data row4 col0\" >0.116809</td>\n",
              "      <td id=\"T_1dd8b_row4_col1\" class=\"data row4 col1\" >0.110362</td>\n",
              "      <td id=\"T_1dd8b_row4_col2\" class=\"data row4 col2\" >0.148693</td>\n",
              "      <td id=\"T_1dd8b_row4_col3\" class=\"data row4 col3\" >0.241752</td>\n",
              "      <td id=\"T_1dd8b_row4_col4\" class=\"data row4 col4\" >1.000000</td>\n",
              "      <td id=\"T_1dd8b_row4_col5\" class=\"data row4 col5\" >0.018838</td>\n",
              "      <td id=\"T_1dd8b_row4_col6\" class=\"data row4 col6\" >0.005850</td>\n",
              "      <td id=\"T_1dd8b_row4_col7\" class=\"data row4 col7\" >-0.151972</td>\n",
              "    </tr>\n",
              "    <tr>\n",
              "      <th id=\"T_1dd8b_level0_row5\" class=\"row_heading level0 row5\" >BMI</th>\n",
              "      <td id=\"T_1dd8b_row5_col0\" class=\"data row5 col0\" >0.010811</td>\n",
              "      <td id=\"T_1dd8b_row5_col1\" class=\"data row5 col1\" >0.012429</td>\n",
              "      <td id=\"T_1dd8b_row5_col2\" class=\"data row5 col2\" >0.006196</td>\n",
              "      <td id=\"T_1dd8b_row5_col3\" class=\"data row5 col3\" >0.079816</td>\n",
              "      <td id=\"T_1dd8b_row5_col4\" class=\"data row5 col4\" >0.018838</td>\n",
              "      <td id=\"T_1dd8b_row5_col5\" class=\"data row5 col5\" >1.000000</td>\n",
              "      <td id=\"T_1dd8b_row5_col6\" class=\"data row5 col6\" >0.036344</td>\n",
              "      <td id=\"T_1dd8b_row5_col7\" class=\"data row5 col7\" >0.114846</td>\n",
              "    </tr>\n",
              "    <tr>\n",
              "      <th id=\"T_1dd8b_level0_row6\" class=\"row_heading level0 row6\" >PhysicalActivity</th>\n",
              "      <td id=\"T_1dd8b_row6_col0\" class=\"data row6 col0\" >0.017397</td>\n",
              "      <td id=\"T_1dd8b_row6_col1\" class=\"data row6 col1\" >0.044262</td>\n",
              "      <td id=\"T_1dd8b_row6_col2\" class=\"data row6 col2\" >-0.034327</td>\n",
              "      <td id=\"T_1dd8b_row6_col3\" class=\"data row6 col3\" >0.032156</td>\n",
              "      <td id=\"T_1dd8b_row6_col4\" class=\"data row6 col4\" >0.005850</td>\n",
              "      <td id=\"T_1dd8b_row6_col5\" class=\"data row6 col5\" >0.036344</td>\n",
              "      <td id=\"T_1dd8b_row6_col6\" class=\"data row6 col6\" >1.000000</td>\n",
              "      <td id=\"T_1dd8b_row6_col7\" class=\"data row6 col7\" >0.053797</td>\n",
              "    </tr>\n",
              "    <tr>\n",
              "      <th id=\"T_1dd8b_level0_row7\" class=\"row_heading level0 row7\" >CancerHistory</th>\n",
              "      <td id=\"T_1dd8b_row7_col0\" class=\"data row7 col0\" >-0.367605</td>\n",
              "      <td id=\"T_1dd8b_row7_col1\" class=\"data row7 col1\" >0.102686</td>\n",
              "      <td id=\"T_1dd8b_row7_col2\" class=\"data row7 col2\" >0.091936</td>\n",
              "      <td id=\"T_1dd8b_row7_col3\" class=\"data row7 col3\" >0.479839</td>\n",
              "      <td id=\"T_1dd8b_row7_col4\" class=\"data row7 col4\" >-0.151972</td>\n",
              "      <td id=\"T_1dd8b_row7_col5\" class=\"data row7 col5\" >0.114846</td>\n",
              "      <td id=\"T_1dd8b_row7_col6\" class=\"data row7 col6\" >0.053797</td>\n",
              "      <td id=\"T_1dd8b_row7_col7\" class=\"data row7 col7\" >1.000000</td>\n",
              "    </tr>\n",
              "  </tbody>\n",
              "</table>\n"
            ]
          },
          "metadata": {},
          "execution_count": 14
        }
      ],
      "source": [
        "corr = cancer.corr()\n",
        "corr.style.background_gradient(cmap='coolwarm')"
      ]
    },
    {
      "cell_type": "code",
      "execution_count": null,
      "metadata": {
        "id": "OZ5s3AaVFrRF"
      },
      "outputs": [],
      "source": [
        "teenagers = cancer[(cancer['Age'] > 0) & (cancer['Age'] < 19)]"
      ]
    },
    {
      "cell_type": "code",
      "execution_count": null,
      "metadata": {
        "id": "5pzoSsTrG1q_"
      },
      "outputs": [],
      "source": [
        "Adult = cancer[(cancer['Age'] > 18) & (cancer['Age'] < 30)]"
      ]
    },
    {
      "cell_type": "code",
      "execution_count": null,
      "metadata": {
        "id": "V8ZLjm1gF0gp"
      },
      "outputs": [],
      "source": [
        "MiddleAge = cancer[(cancer['Age'] > 30) & (cancer['Age'] < 60)]"
      ]
    },
    {
      "cell_type": "code",
      "execution_count": null,
      "metadata": {
        "id": "c0T39o8qGJpV"
      },
      "outputs": [],
      "source": [
        "Elderly = cancer[(cancer['Age'] > 60) & (cancer['Age'] < 80)]"
      ]
    },
    {
      "cell_type": "code",
      "execution_count": null,
      "metadata": {
        "colab": {
          "base_uri": "https://localhost:8080/",
          "height": 435
        },
        "id": "ZDmvfbhOGL84",
        "outputId": "2c671ad4-9ac7-4174-f6be-cf5d404d3025"
      },
      "outputs": [
        {
          "output_type": "execute_result",
          "data": {
            "text/plain": [
              "<pandas.io.formats.style.Styler at 0x7c5fa3d6da50>"
            ],
            "text/html": [
              "<style type=\"text/css\">\n",
              "#T_66392_row0_col0, #T_66392_row0_col1, #T_66392_row0_col2, #T_66392_row0_col3, #T_66392_row0_col4, #T_66392_row1_col0, #T_66392_row1_col1, #T_66392_row1_col2, #T_66392_row1_col3, #T_66392_row1_col4, #T_66392_row2_col0, #T_66392_row2_col1, #T_66392_row2_col2, #T_66392_row2_col3, #T_66392_row2_col4, #T_66392_row3_col0, #T_66392_row3_col1, #T_66392_row3_col2, #T_66392_row3_col3, #T_66392_row3_col4, #T_66392_row4_col0, #T_66392_row4_col1, #T_66392_row4_col2, #T_66392_row4_col3, #T_66392_row4_col4, #T_66392_row5_col0, #T_66392_row5_col1, #T_66392_row5_col2, #T_66392_row5_col3, #T_66392_row5_col4, #T_66392_row6_col0, #T_66392_row6_col1, #T_66392_row6_col2, #T_66392_row6_col3, #T_66392_row6_col4, #T_66392_row7_col0, #T_66392_row7_col1, #T_66392_row7_col2, #T_66392_row7_col3, #T_66392_row7_col4, #T_66392_row8_col0, #T_66392_row8_col1, #T_66392_row8_col2, #T_66392_row8_col3, #T_66392_row8_col4, #T_66392_row9_col0, #T_66392_row9_col1, #T_66392_row9_col2, #T_66392_row9_col3, #T_66392_row9_col4, #T_66392_row10_col0, #T_66392_row10_col1, #T_66392_row10_col2, #T_66392_row10_col3, #T_66392_row10_col4, #T_66392_row11_col0, #T_66392_row11_col1, #T_66392_row11_col2, #T_66392_row11_col3, #T_66392_row11_col4 {\n",
              "  background-color: #0096c7;\n",
              "  color: white;\n",
              "  border: 1.5px solid black;\n",
              "}\n",
              "</style>\n",
              "<table id=\"T_66392\" class=\"dataframe\">\n",
              "  <thead>\n",
              "    <tr>\n",
              "      <th class=\"blank level0\" >&nbsp;</th>\n",
              "      <th id=\"T_66392_level0_col0\" class=\"col_heading level0 col0\" >0</th>\n",
              "      <th id=\"T_66392_level0_col1\" class=\"col_heading level0 col1\" >1</th>\n",
              "      <th id=\"T_66392_level0_col2\" class=\"col_heading level0 col2\" >2</th>\n",
              "      <th id=\"T_66392_level0_col3\" class=\"col_heading level0 col3\" >3</th>\n",
              "      <th id=\"T_66392_level0_col4\" class=\"col_heading level0 col4\" >4</th>\n",
              "    </tr>\n",
              "  </thead>\n",
              "  <tbody>\n",
              "    <tr>\n",
              "      <th id=\"T_66392_level0_row0\" class=\"row_heading level0 row0\" >Age</th>\n",
              "      <td id=\"T_66392_row0_col0\" class=\"data row0 col0\" >33.000000</td>\n",
              "      <td id=\"T_66392_row0_col1\" class=\"data row0 col1\" >17.000000</td>\n",
              "      <td id=\"T_66392_row0_col2\" class=\"data row0 col2\" >35.000000</td>\n",
              "      <td id=\"T_66392_row0_col3\" class=\"data row0 col3\" >37.000000</td>\n",
              "      <td id=\"T_66392_row0_col4\" class=\"data row0 col4\" >46.000000</td>\n",
              "    </tr>\n",
              "    <tr>\n",
              "      <th id=\"T_66392_level0_row1\" class=\"row_heading level0 row1\" >Gender</th>\n",
              "      <td id=\"T_66392_row1_col0\" class=\"data row1 col0\" >1.000000</td>\n",
              "      <td id=\"T_66392_row1_col1\" class=\"data row1 col1\" >1.000000</td>\n",
              "      <td id=\"T_66392_row1_col2\" class=\"data row1 col2\" >1.000000</td>\n",
              "      <td id=\"T_66392_row1_col3\" class=\"data row1 col3\" >1.000000</td>\n",
              "      <td id=\"T_66392_row1_col4\" class=\"data row1 col4\" >1.000000</td>\n",
              "    </tr>\n",
              "    <tr>\n",
              "      <th id=\"T_66392_level0_row2\" class=\"row_heading level0 row2\" >Smoking</th>\n",
              "      <td id=\"T_66392_row2_col0\" class=\"data row2 col0\" >0.000000</td>\n",
              "      <td id=\"T_66392_row2_col1\" class=\"data row2 col1\" >0.000000</td>\n",
              "      <td id=\"T_66392_row2_col2\" class=\"data row2 col2\" >0.000000</td>\n",
              "      <td id=\"T_66392_row2_col3\" class=\"data row2 col3\" >1.000000</td>\n",
              "      <td id=\"T_66392_row2_col4\" class=\"data row2 col4\" >1.000000</td>\n",
              "    </tr>\n",
              "    <tr>\n",
              "      <th id=\"T_66392_level0_row3\" class=\"row_heading level0 row3\" >Genetic Risk</th>\n",
              "      <td id=\"T_66392_row3_col0\" class=\"data row3 col0\" >0.000000</td>\n",
              "      <td id=\"T_66392_row3_col1\" class=\"data row3 col1\" >1.000000</td>\n",
              "      <td id=\"T_66392_row3_col2\" class=\"data row3 col2\" >1.000000</td>\n",
              "      <td id=\"T_66392_row3_col3\" class=\"data row3 col3\" >1.000000</td>\n",
              "      <td id=\"T_66392_row3_col4\" class=\"data row3 col4\" >1.000000</td>\n",
              "    </tr>\n",
              "    <tr>\n",
              "      <th id=\"T_66392_level0_row4\" class=\"row_heading level0 row4\" >Alcohol Intake</th>\n",
              "      <td id=\"T_66392_row4_col0\" class=\"data row4 col0\" >1.000000</td>\n",
              "      <td id=\"T_66392_row4_col1\" class=\"data row4 col1\" >0.000000</td>\n",
              "      <td id=\"T_66392_row4_col2\" class=\"data row4 col2\" >1.000000</td>\n",
              "      <td id=\"T_66392_row4_col3\" class=\"data row4 col3\" >1.000000</td>\n",
              "      <td id=\"T_66392_row4_col4\" class=\"data row4 col4\" >1.000000</td>\n",
              "    </tr>\n",
              "    <tr>\n",
              "      <th id=\"T_66392_level0_row5\" class=\"row_heading level0 row5\" >BMI</th>\n",
              "      <td id=\"T_66392_row5_col0\" class=\"data row5 col0\" >31.423003</td>\n",
              "      <td id=\"T_66392_row5_col1\" class=\"data row5 col1\" >25.695442</td>\n",
              "      <td id=\"T_66392_row5_col2\" class=\"data row5 col2\" >30.641311</td>\n",
              "      <td id=\"T_66392_row5_col3\" class=\"data row5 col3\" >33.441209</td>\n",
              "      <td id=\"T_66392_row5_col4\" class=\"data row5 col4\" >25.451210</td>\n",
              "    </tr>\n",
              "    <tr>\n",
              "      <th id=\"T_66392_level0_row6\" class=\"row_heading level0 row6\" >PhysicalActivity</th>\n",
              "      <td id=\"T_66392_row6_col0\" class=\"data row6 col0\" >5.995654</td>\n",
              "      <td id=\"T_66392_row6_col1\" class=\"data row6 col1\" >5.525544</td>\n",
              "      <td id=\"T_66392_row6_col2\" class=\"data row6 col2\" >7.021610</td>\n",
              "      <td id=\"T_66392_row6_col3\" class=\"data row6 col3\" >6.012804</td>\n",
              "      <td id=\"T_66392_row6_col4\" class=\"data row6 col4\" >5.614587</td>\n",
              "    </tr>\n",
              "    <tr>\n",
              "      <th id=\"T_66392_level0_row7\" class=\"row_heading level0 row7\" >CancerHistory</th>\n",
              "      <td id=\"T_66392_row7_col0\" class=\"data row7 col0\" >2.000000</td>\n",
              "      <td id=\"T_66392_row7_col1\" class=\"data row7 col1\" >2.000000</td>\n",
              "      <td id=\"T_66392_row7_col2\" class=\"data row7 col2\" >2.000000</td>\n",
              "      <td id=\"T_66392_row7_col3\" class=\"data row7 col3\" >2.000000</td>\n",
              "      <td id=\"T_66392_row7_col4\" class=\"data row7 col4\" >2.000000</td>\n",
              "    </tr>\n",
              "    <tr>\n",
              "      <th id=\"T_66392_level0_row8\" class=\"row_heading level0 row8\" >teenagers</th>\n",
              "      <td id=\"T_66392_row8_col0\" class=\"data row8 col0\" >nan</td>\n",
              "      <td id=\"T_66392_row8_col1\" class=\"data row8 col1\" >17.000000</td>\n",
              "      <td id=\"T_66392_row8_col2\" class=\"data row8 col2\" >nan</td>\n",
              "      <td id=\"T_66392_row8_col3\" class=\"data row8 col3\" >nan</td>\n",
              "      <td id=\"T_66392_row8_col4\" class=\"data row8 col4\" >nan</td>\n",
              "    </tr>\n",
              "    <tr>\n",
              "      <th id=\"T_66392_level0_row9\" class=\"row_heading level0 row9\" >Adult</th>\n",
              "      <td id=\"T_66392_row9_col0\" class=\"data row9 col0\" >nan</td>\n",
              "      <td id=\"T_66392_row9_col1\" class=\"data row9 col1\" >nan</td>\n",
              "      <td id=\"T_66392_row9_col2\" class=\"data row9 col2\" >nan</td>\n",
              "      <td id=\"T_66392_row9_col3\" class=\"data row9 col3\" >nan</td>\n",
              "      <td id=\"T_66392_row9_col4\" class=\"data row9 col4\" >nan</td>\n",
              "    </tr>\n",
              "    <tr>\n",
              "      <th id=\"T_66392_level0_row10\" class=\"row_heading level0 row10\" >MiddleAge</th>\n",
              "      <td id=\"T_66392_row10_col0\" class=\"data row10 col0\" >33.000000</td>\n",
              "      <td id=\"T_66392_row10_col1\" class=\"data row10 col1\" >nan</td>\n",
              "      <td id=\"T_66392_row10_col2\" class=\"data row10 col2\" >35.000000</td>\n",
              "      <td id=\"T_66392_row10_col3\" class=\"data row10 col3\" >37.000000</td>\n",
              "      <td id=\"T_66392_row10_col4\" class=\"data row10 col4\" >46.000000</td>\n",
              "    </tr>\n",
              "    <tr>\n",
              "      <th id=\"T_66392_level0_row11\" class=\"row_heading level0 row11\" >Elderly</th>\n",
              "      <td id=\"T_66392_row11_col0\" class=\"data row11 col0\" >nan</td>\n",
              "      <td id=\"T_66392_row11_col1\" class=\"data row11 col1\" >nan</td>\n",
              "      <td id=\"T_66392_row11_col2\" class=\"data row11 col2\" >nan</td>\n",
              "      <td id=\"T_66392_row11_col3\" class=\"data row11 col3\" >nan</td>\n",
              "      <td id=\"T_66392_row11_col4\" class=\"data row11 col4\" >nan</td>\n",
              "    </tr>\n",
              "  </tbody>\n",
              "</table>\n"
            ]
          },
          "metadata": {},
          "execution_count": 19
        }
      ],
      "source": [
        "cancer['teenagers'] = teenagers['Age']\n",
        "cancer['Adult'] = Adult['Age']\n",
        "cancer['MiddleAge'] = MiddleAge['Age']\n",
        "cancer['Elderly'] = Elderly['Age']\n",
        "cancer.to_csv('new_with_teenagers.csv', index=False)\n",
        "cancer.head().T.style.set_properties(**{\"background-color\": \"#0096c7\",\"color\": \"white\",\"border\": \"1.5px solid black\"})"
      ]
    },
    {
      "cell_type": "code",
      "execution_count": null,
      "metadata": {
        "colab": {
          "base_uri": "https://localhost:8080/",
          "height": 930
        },
        "id": "LyhWy4vVGQwd",
        "outputId": "6bca23fd-0857-4de4-eb3e-a55e9ee26344"
      },
      "outputs": [
        {
          "output_type": "stream",
          "name": "stderr",
          "text": [
            "<ipython-input-20-cf13ceba7fb1>:2: FutureWarning: \n",
            "\n",
            "Passing `palette` without assigning `hue` is deprecated and will be removed in v0.14.0. Assign the `x` variable to `hue` and set `legend=False` for the same effect.\n",
            "\n",
            "  sns.countplot(x='Age', palette=['blue', 'yellow'], data=cancer)\n",
            "<ipython-input-20-cf13ceba7fb1>:2: UserWarning: \n",
            "The palette list has fewer values (2) than needed (65) and will cycle, which may produce an uninterpretable plot.\n",
            "  sns.countplot(x='Age', palette=['blue', 'yellow'], data=cancer)\n"
          ]
        },
        {
          "output_type": "execute_result",
          "data": {
            "text/plain": [
              "<Axes: xlabel='Age', ylabel='count'>"
            ]
          },
          "metadata": {},
          "execution_count": 20
        },
        {
          "output_type": "display_data",
          "data": {
            "text/plain": [
              "<Figure size 2000x1000 with 1 Axes>"
            ],
            "image/png": "[encoded data removed]"
          },
          "metadata": {}
        }
      ],
      "source": [
        "plt.figure(figsize=(20,10))\n",
        "sns.countplot(x='Age', palette=['blue', 'yellow'], data=cancer)"
      ]
    },
    {
      "cell_type": "code",
      "execution_count": null,
      "metadata": {
        "colab": {
          "base_uri": "https://localhost:8080/",
          "height": 428
        },
        "id": "lDiW7Z3AGUb5",
        "outputId": "0f2e739c-2c61-4482-8b34-f6330c587349"
      },
      "outputs": [
        {
          "output_type": "display_data",
          "data": {
            "text/plain": [
              "<Figure size 640x480 with 1 Axes>"
            ],
            "image/png": "[encoded data removed]"
          },
          "metadata": {}
        }
      ],
      "source": [
        "ages = [ages-1 for ages in cancer['Age']]\n",
        "middle_age_range = range(20, 60)\n",
        "teenager_age_range = range(0,19)\n",
        "adult_age_range = range(19, 30)\n",
        "elderly_age_range = range(61, 100)\n",
        "num_middle = sum(1 for age in ages if age in middle_age_range)\n",
        "num_teenagers = sum(1 for age in ages if age in teenager_age_range)\n",
        "num_elderly = sum(1 for age in ages if age in elderly_age_range)\n",
        "num_adult = sum(1 for age in ages if age in adult_age_range)\n",
        "total = len(ages)\n",
        "percent_middle = (num_middle / total) * 100\n",
        "percent_teenagers = (num_teenagers / total) * 100\n",
        "percent_elderly = (num_elderly / total) * 100\n",
        "percent_adult = (num_adult / total) * 100\n",
        "labels = ['Middle', 'Teenagers', 'Elderly','Adult']\n",
        "sizes = [percent_middle, percent_teenagers, percent_elderly,percent_adult]\n",
        "colors = ['#ff6c5e', 'b', '#99ff99','#fcf25d']\n",
        "fig1, ax1 = plt.subplots()\n",
        "ax1.pie(sizes, labels=labels, colors=colors, autopct='%1.1f%%', startangle=90)\n",
        "ax1.axis('equal')\n",
        "plt.title('Age ')\n",
        "plt.show()"
      ]
    },
    {
      "cell_type": "code",
      "execution_count": null,
      "metadata": {
        "colab": {
          "base_uri": "https://localhost:8080/",
          "height": 444
        },
        "id": "dkD6ZDlkKCmz",
        "outputId": "340534ef-3cb9-4e83-e5a7-279898e79ac1"
      },
      "outputs": [
        {
          "output_type": "display_data",
          "data": {
            "text/plain": [
              "<Figure size 500x500 with 1 Axes>"
            ],
            "image/png": "[encoded data removed]"
          },
          "metadata": {}
        }
      ],
      "source": [
        "plt.figure(figsize=(5,5))\n",
        "cancer['Gender'].value_counts().plot.pie(autopct='%1.1f%%',startangle=90,colors = ['#66b3ff','#ff9999'])\n",
        "plt.title('Gender')\n",
        "plt.ylabel('')\n",
        "plt.show()"
      ]
    },
    {
      "cell_type": "code",
      "execution_count": null,
      "metadata": {
        "colab": {
          "base_uri": "https://localhost:8080/",
          "height": 444
        },
        "id": "Oswo628CKT67",
        "outputId": "5d20af46-4195-4ae6-c6df-7f751a3ef252"
      },
      "outputs": [
        {
          "output_type": "display_data",
          "data": {
            "text/plain": [
              "<Figure size 500x500 with 1 Axes>"
            ],
            "image/png": "[encoded data removed]"
          },
          "metadata": {}
        }
      ],
      "source": [
        "plt.figure(figsize=(5,5))\n",
        "cancer['Smoking'].value_counts().plot.pie(autopct='%1.1f%%',startangle=90,colors = ['#1DEE1A','r'])\n",
        "plt.title('Smoking')\n",
        "plt.ylabel('')\n",
        "plt.show()"
      ]
    },
    {
      "cell_type": "code",
      "execution_count": null,
      "metadata": {
        "colab": {
          "base_uri": "https://localhost:8080/",
          "height": 681
        },
        "id": "CcSS8D9aKhKj",
        "outputId": "fd199acf-866e-45b5-fafb-0afeaa47a293"
      },
      "outputs": [
        {
          "output_type": "stream",
          "name": "stderr",
          "text": [
            "<ipython-input-24-f68668275b55>:2: FutureWarning: \n",
            "\n",
            "Passing `palette` without assigning `hue` is deprecated and will be removed in v0.14.0. Assign the `x` variable to `hue` and set `legend=False` for the same effect.\n",
            "\n",
            "  sns.countplot(x='Genetic Risk', palette=['#1DEE1A', 'yellow','r'], data=cancer)\n",
            "<ipython-input-24-f68668275b55>:2: UserWarning: The palette list has more values (3) than needed (2), which may not be intended.\n",
            "  sns.countplot(x='Genetic Risk', palette=['#1DEE1A', 'yellow','r'], data=cancer)\n"
          ]
        },
        {
          "output_type": "execute_result",
          "data": {
            "text/plain": [
              "<Axes: xlabel='Genetic Risk', ylabel='count'>"
            ]
          },
          "metadata": {},
          "execution_count": 24
        },
        {
          "output_type": "display_data",
          "data": {
            "text/plain": [
              "<Figure size 700x600 with 1 Axes>"
            ],
            "image/png": "[encoded data removed]"
          },
          "metadata": {}
        }
      ],
      "source": [
        "plt.figure(figsize=(7,6))\n",
        "sns.countplot(x='Genetic Risk', palette=['#1DEE1A', 'yellow','r'], data=cancer)"
      ]
    },
    {
      "cell_type": "code",
      "execution_count": null,
      "metadata": {
        "colab": {
          "base_uri": "https://localhost:8080/",
          "height": 444
        },
        "id": "Z0lAGr9xKt3O",
        "outputId": "28ff3fd3-ebbb-4d2c-eb52-cd88f741c751"
      },
      "outputs": [
        {
          "output_type": "display_data",
          "data": {
            "text/plain": [
              "<Figure size 500x500 with 1 Axes>"
            ],
            "image/png": "[encoded data removed]"
          },
          "metadata": {}
        }
      ],
      "source": [
        "plt.figure(figsize=(5,5))\n",
        "cancer['Genetic Risk'].value_counts().plot.pie(autopct='%1.1f%%',startangle=90,colors = ['#1DEE1A', 'yellow','r'])\n",
        "plt.title('Genetic Risk')\n",
        "plt.ylabel('')\n",
        "plt.show()"
      ]
    },
    {
      "cell_type": "code",
      "execution_count": null,
      "metadata": {
        "colab": {
          "base_uri": "https://localhost:8080/",
          "height": 444
        },
        "id": "p6FG5p4wKzLI",
        "outputId": "9d4c177a-646b-457b-f36a-b4bcf42720ed"
      },
      "outputs": [
        {
          "output_type": "display_data",
          "data": {
            "text/plain": [
              "<Figure size 500x500 with 1 Axes>"
            ],
            "image/png": "[encoded data removed]"
          },
          "metadata": {}
        }
      ],
      "source": [
        "plt.figure(figsize=(5,5))\n",
        "cancer['CancerHistory'].value_counts().plot.pie(autopct='%1.1f%%',startangle=90,colors = ['#986FCA','#10E7D9','#5eff89'])\n",
        "plt.title('CancerHistory')\n",
        "plt.ylabel('')\n",
        "plt.show()"
      ]
    },
    {
      "cell_type": "code",
      "execution_count": null,
      "metadata": {
        "id": "UDsYkm24LC8-"
      },
      "outputs": [],
      "source": [
        "from sklearn.datasets import load_iris\n",
        "iris = load_iris()\n",
        "X = iris.data\n",
        "y = iris.target\n",
        "X_train, X_test, y_train, y_test = train_test_split(X, y, test_size=0.2, random_state=42)"
      ]
    },
    {
      "cell_type": "code",
      "execution_count": null,
      "metadata": {
        "colab": {
          "base_uri": "https://localhost:8080/"
        },
        "id": "PBwb7IoGLJS0",
        "outputId": "60ee3efe-0340-4325-d1c5-6edf2a40c747"
      },
      "outputs": [
        {
          "output_type": "execute_result",
          "data": {
            "text/plain": [
              "120"
            ]
          },
          "metadata": {},
          "execution_count": 28
        }
      ],
      "source": [
        "len(X_train)"
      ]
    },
    {
      "cell_type": "code",
      "execution_count": null,
      "metadata": {
        "colab": {
          "base_uri": "https://localhost:8080/"
        },
        "id": "jMwpp8ZVLKSx",
        "outputId": "ea358128-e4ab-46ef-e198-407b5df96af2"
      },
      "outputs": [
        {
          "output_type": "execute_result",
          "data": {
            "text/plain": [
              "30"
            ]
          },
          "metadata": {},
          "execution_count": 29
        }
      ],
      "source": [
        "len(X_test)"
      ]
    },
    {
      "cell_type": "code",
      "execution_count": null,
      "metadata": {
        "colab": {
          "base_uri": "https://localhost:8080/"
        },
        "id": "8bbHsaIsLNC6",
        "outputId": "9cc2569f-11be-4fc3-b35b-c02e0eb4291a"
      },
      "outputs": [
        {
          "output_type": "execute_result",
          "data": {
            "text/plain": [
              "array([1, 0, 2, 1, 1, 0, 1, 2, 1, 1, 2, 0, 0, 0, 0, 1, 2, 1, 1, 2, 0, 2,\n",
              "       0, 2, 2, 2, 2, 2, 0, 0])"
            ]
          },
          "metadata": {},
          "execution_count": 30
        }
      ],
      "source": [
        "y_pred = model.predict(X_test)\n",
        "y_pred"
      ]
    },
    {
      "cell_type": "markdown",
      "metadata": {
        "id": "zJn5Uq4yLejl"
      },
      "source": [
        "# KNN Classifier"
      ]
    },
    {
      "cell_type": "code",
      "execution_count": null,
      "metadata": {
        "colab": {
          "base_uri": "https://localhost:8080/",
          "height": 74
        },
        "id": "SM6wJxEZLO4r",
        "outputId": "8625c25b-3957-47f8-cc26-974c40019734"
      },
      "outputs": [
        {
          "output_type": "execute_result",
          "data": {
            "text/plain": [
              "KNeighborsClassifier()"
            ],
            "text/html": [
              "<style>#sk-container-id-1 {color: black;}#sk-container-id-1 pre{padding: 0;}#sk-container-id-1 div.sk-toggleable {background-color: white;}#sk-container-id-1 label.sk-toggleable__label {cursor: pointer;display: block;width: 100%;margin-bottom: 0;padding: 0.3em;box-sizing: border-box;text-align: center;}#sk-container-id-1 label.sk-toggleable__label-arrow:before {content: \"▸\";float: left;margin-right: 0.25em;color: #696969;}#sk-container-id-1 label.sk-toggleable__label-arrow:hover:before {color: black;}#sk-container-id-1 div.sk-estimator:hover label.sk-toggleable__label-arrow:before {color: black;}#sk-container-id-1 div.sk-toggleable__content {max-height: 0;max-width: 0;overflow: hidden;text-align: left;background-color: #f0f8ff;}#sk-container-id-1 div.sk-toggleable__content pre {margin: 0.2em;color: black;border-radius: 0.25em;background-color: #f0f8ff;}#sk-container-id-1 input.sk-toggleable__control:checked~div.sk-toggleable__content {max-height: 200px;max-width: 100%;overflow: auto;}#sk-container-id-1 input.sk-toggleable__control:checked~label.sk-toggleable__label-arrow:before {content: \"▾\";}#sk-container-id-1 div.sk-estimator input.sk-toggleable__control:checked~label.sk-toggleable__label {background-color: #d4ebff;}#sk-container-id-1 div.sk-label input.sk-toggleable__control:checked~label.sk-toggleable__label {background-color: #d4ebff;}#sk-container-id-1 input.sk-hidden--visually {border: 0;clip: rect(1px 1px 1px 1px);clip: rect(1px, 1px, 1px, 1px);height: 1px;margin: -1px;overflow: hidden;padding: 0;position: absolute;width: 1px;}#sk-container-id-1 div.sk-estimator {font-family: monospace;background-color: #f0f8ff;border: 1px dotted black;border-radius: 0.25em;box-sizing: border-box;margin-bottom: 0.5em;}#sk-container-id-1 div.sk-estimator:hover {background-color: #d4ebff;}#sk-container-id-1 div.sk-parallel-item::after {content: \"\";width: 100%;border-bottom: 1px solid gray;flex-grow: 1;}#sk-container-id-1 div.sk-label:hover label.sk-toggleable__label {background-color: #d4ebff;}#sk-container-id-1 div.sk-serial::before {content: \"\";position: absolute;border-left: 1px solid gray;box-sizing: border-box;top: 0;bottom: 0;left: 50%;z-index: 0;}#sk-container-id-1 div.sk-serial {display: flex;flex-direction: column;align-items: center;background-color: white;padding-right: 0.2em;padding-left: 0.2em;position: relative;}#sk-container-id-1 div.sk-item {position: relative;z-index: 1;}#sk-container-id-1 div.sk-parallel {display: flex;align-items: stretch;justify-content: center;background-color: white;position: relative;}#sk-container-id-1 div.sk-item::before, #sk-container-id-1 div.sk-parallel-item::before {content: \"\";position: absolute;border-left: 1px solid gray;box-sizing: border-box;top: 0;bottom: 0;left: 50%;z-index: -1;}#sk-container-id-1 div.sk-parallel-item {display: flex;flex-direction: column;z-index: 1;position: relative;background-color: white;}#sk-container-id-1 div.sk-parallel-item:first-child::after {align-self: flex-end;width: 50%;}#sk-container-id-1 div.sk-parallel-item:last-child::after {align-self: flex-start;width: 50%;}#sk-container-id-1 div.sk-parallel-item:only-child::after {width: 0;}#sk-container-id-1 div.sk-dashed-wrapped {border: 1px dashed gray;margin: 0 0.4em 0.5em 0.4em;box-sizing: border-box;padding-bottom: 0.4em;background-color: white;}#sk-container-id-1 div.sk-label label {font-family: monospace;font-weight: bold;display: inline-block;line-height: 1.2em;}#sk-container-id-1 div.sk-label-container {text-align: center;}#sk-container-id-1 div.sk-container {/* jupyter's `normalize.less` sets `[hidden] { display: none; }` but bootstrap.min.css set `[hidden] { display: none !important; }` so we also need the `!important` here to be able to override the default hidden behavior on the sphinx rendered scikit-learn.org. See: https://github.com/scikit-learn/scikit-learn/issues/21755 */display: inline-block !important;position: relative;}#sk-container-id-1 div.sk-text-repr-fallback {display: none;}</style><div id=\"sk-container-id-1\" class=\"sk-top-container\"><div class=\"sk-text-repr-fallback\"><pre>KNeighborsClassifier()</pre><b>In a Jupyter environment, please rerun this cell to show the HTML representation or trust the notebook. <br />On GitHub, the HTML representation is unable to render, please try loading this page with nbviewer.org.</b></div><div class=\"sk-container\" hidden><div class=\"sk-item\"><div class=\"sk-estimator sk-toggleable\"><input class=\"sk-toggleable__control sk-hidden--visually\" id=\"sk-estimator-id-1\" type=\"checkbox\" checked><label for=\"sk-estimator-id-1\" class=\"sk-toggleable__label sk-toggleable__label-arrow\">KNeighborsClassifier</label><div class=\"sk-toggleable__content\"><pre>KNeighborsClassifier()</pre></div></div></div></div></div>"
            ]
          },
          "metadata": {},
          "execution_count": 31
        }
      ],
      "source": [
        "from sklearn.neighbors import KNeighborsClassifier\n",
        "knn = KNeighborsClassifier(n_neighbors=5)\n",
        "knn.fit(X_train, y_train)"
      ]
    },
    {
      "cell_type": "code",
      "execution_count": null,
      "metadata": {
        "id": "KzWUomPRLQfb"
      },
      "outputs": [],
      "source": [
        "accuracy = knn.score(X_test, y_test)"
      ]
    },
    {
      "cell_type": "code",
      "execution_count": null,
      "metadata": {
        "colab": {
          "base_uri": "https://localhost:8080/"
        },
        "id": "Tnq091hYLTzX",
        "outputId": "4d95dfab-df80-42f8-b37b-e4a39677eac2"
      },
      "outputs": [
        {
          "output_type": "stream",
          "name": "stdout",
          "text": [
            "The accuracy of KNN Classifier is : 100.00%\n"
          ]
        }
      ],
      "source": [
        "knn_predict= knn.predict(X_test)\n",
        "knn_predict\n",
        "accuracy_percentage = accuracy * 100\n",
        "\n",
        "# Print the percentage accuracy\n",
        "print(f'The accuracy of KNN Classifier is : {accuracy_percentage:.2f}%')"
      ]
    },
    {
      "cell_type": "markdown",
      "metadata": {
        "id": "L-ZWc2JzLkAn"
      },
      "source": [
        "#KNN Regressor"
      ]
    },
    {
      "cell_type": "code",
      "execution_count": null,
      "metadata": {
        "colab": {
          "base_uri": "https://localhost:8080/",
          "height": 74
        },
        "id": "xSD331eCLq2H",
        "outputId": "3b5475fc-389a-4fac-e8bd-8f4ae6b3f5d7"
      },
      "outputs": [
        {
          "output_type": "execute_result",
          "data": {
            "text/plain": [
              "KNeighborsRegressor()"
            ],
            "text/html": [
              "<style>#sk-container-id-2 {color: black;}#sk-container-id-2 pre{padding: 0;}#sk-container-id-2 div.sk-toggleable {background-color: white;}#sk-container-id-2 label.sk-toggleable__label {cursor: pointer;display: block;width: 100%;margin-bottom: 0;padding: 0.3em;box-sizing: border-box;text-align: center;}#sk-container-id-2 label.sk-toggleable__label-arrow:before {content: \"▸\";float: left;margin-right: 0.25em;color: #696969;}#sk-container-id-2 label.sk-toggleable__label-arrow:hover:before {color: black;}#sk-container-id-2 div.sk-estimator:hover label.sk-toggleable__label-arrow:before {color: black;}#sk-container-id-2 div.sk-toggleable__content {max-height: 0;max-width: 0;overflow: hidden;text-align: left;background-color: #f0f8ff;}#sk-container-id-2 div.sk-toggleable__content pre {margin: 0.2em;color: black;border-radius: 0.25em;background-color: #f0f8ff;}#sk-container-id-2 input.sk-toggleable__control:checked~div.sk-toggleable__content {max-height: 200px;max-width: 100%;overflow: auto;}#sk-container-id-2 input.sk-toggleable__control:checked~label.sk-toggleable__label-arrow:before {content: \"▾\";}#sk-container-id-2 div.sk-estimator input.sk-toggleable__control:checked~label.sk-toggleable__label {background-color: #d4ebff;}#sk-container-id-2 div.sk-label input.sk-toggleable__control:checked~label.sk-toggleable__label {background-color: #d4ebff;}#sk-container-id-2 input.sk-hidden--visually {border: 0;clip: rect(1px 1px 1px 1px);clip: rect(1px, 1px, 1px, 1px);height: 1px;margin: -1px;overflow: hidden;padding: 0;position: absolute;width: 1px;}#sk-container-id-2 div.sk-estimator {font-family: monospace;background-color: #f0f8ff;border: 1px dotted black;border-radius: 0.25em;box-sizing: border-box;margin-bottom: 0.5em;}#sk-container-id-2 div.sk-estimator:hover {background-color: #d4ebff;}#sk-container-id-2 div.sk-parallel-item::after {content: \"\";width: 100%;border-bottom: 1px solid gray;flex-grow: 1;}#sk-container-id-2 div.sk-label:hover label.sk-toggleable__label {background-color: #d4ebff;}#sk-container-id-2 div.sk-serial::before {content: \"\";position: absolute;border-left: 1px solid gray;box-sizing: border-box;top: 0;bottom: 0;left: 50%;z-index: 0;}#sk-container-id-2 div.sk-serial {display: flex;flex-direction: column;align-items: center;background-color: white;padding-right: 0.2em;padding-left: 0.2em;position: relative;}#sk-container-id-2 div.sk-item {position: relative;z-index: 1;}#sk-container-id-2 div.sk-parallel {display: flex;align-items: stretch;justify-content: center;background-color: white;position: relative;}#sk-container-id-2 div.sk-item::before, #sk-container-id-2 div.sk-parallel-item::before {content: \"\";position: absolute;border-left: 1px solid gray;box-sizing: border-box;top: 0;bottom: 0;left: 50%;z-index: -1;}#sk-container-id-2 div.sk-parallel-item {display: flex;flex-direction: column;z-index: 1;position: relative;background-color: white;}#sk-container-id-2 div.sk-parallel-item:first-child::after {align-self: flex-end;width: 50%;}#sk-container-id-2 div.sk-parallel-item:last-child::after {align-self: flex-start;width: 50%;}#sk-container-id-2 div.sk-parallel-item:only-child::after {width: 0;}#sk-container-id-2 div.sk-dashed-wrapped {border: 1px dashed gray;margin: 0 0.4em 0.5em 0.4em;box-sizing: border-box;padding-bottom: 0.4em;background-color: white;}#sk-container-id-2 div.sk-label label {font-family: monospace;font-weight: bold;display: inline-block;line-height: 1.2em;}#sk-container-id-2 div.sk-label-container {text-align: center;}#sk-container-id-2 div.sk-container {/* jupyter's `normalize.less` sets `[hidden] { display: none; }` but bootstrap.min.css set `[hidden] { display: none !important; }` so we also need the `!important` here to be able to override the default hidden behavior on the sphinx rendered scikit-learn.org. See: https://github.com/scikit-learn/scikit-learn/issues/21755 */display: inline-block !important;position: relative;}#sk-container-id-2 div.sk-text-repr-fallback {display: none;}</style><div id=\"sk-container-id-2\" class=\"sk-top-container\"><div class=\"sk-text-repr-fallback\"><pre>KNeighborsRegressor()</pre><b>In a Jupyter environment, please rerun this cell to show the HTML representation or trust the notebook. <br />On GitHub, the HTML representation is unable to render, please try loading this page with nbviewer.org.</b></div><div class=\"sk-container\" hidden><div class=\"sk-item\"><div class=\"sk-estimator sk-toggleable\"><input class=\"sk-toggleable__control sk-hidden--visually\" id=\"sk-estimator-id-2\" type=\"checkbox\" checked><label for=\"sk-estimator-id-2\" class=\"sk-toggleable__label sk-toggleable__label-arrow\">KNeighborsRegressor</label><div class=\"sk-toggleable__content\"><pre>KNeighborsRegressor()</pre></div></div></div></div></div>"
            ]
          },
          "metadata": {},
          "execution_count": 34
        }
      ],
      "source": [
        "from sklearn.neighbors import KNeighborsRegressor\n",
        "knnr = KNeighborsRegressor(n_neighbors=5)\n",
        "knnr.fit(X_train, y_train)"
      ]
    },
    {
      "cell_type": "code",
      "execution_count": null,
      "metadata": {
        "id": "78TKTRcPLsgO"
      },
      "outputs": [],
      "source": [
        "accuracy = knnr.score(X_test, y_test)"
      ]
    },
    {
      "cell_type": "code",
      "execution_count": null,
      "metadata": {
        "colab": {
          "base_uri": "https://localhost:8080/"
        },
        "id": "GJTm-6K-Luxp",
        "outputId": "c1fc5295-1a38-40fe-a21c-66b67b7fdfc9"
      },
      "outputs": [
        {
          "output_type": "stream",
          "name": "stdout",
          "text": [
            "[[10  0  0]\n",
            " [ 0  9  0]\n",
            " [ 0  0 11]]\n",
            "The accuracy of KNN Regressor is : 98.86%\n"
          ]
        }
      ],
      "source": [
        "from sklearn.metrics import confusion_matrix\n",
        "print(confusion_matrix(y_test, y_pred))\n",
        "accuracy_percentage = accuracy * 100\n",
        "print(f'The accuracy of KNN Regressor is : {accuracy_percentage:.2f}%')"
      ]
    },
    {
      "cell_type": "markdown",
      "metadata": {
        "id": "ijNv-bw9LxP1"
      },
      "source": [
        "#Random Forest Classifier"
      ]
    },
    {
      "cell_type": "code",
      "execution_count": null,
      "metadata": {
        "colab": {
          "base_uri": "https://localhost:8080/",
          "height": 74
        },
        "id": "tM5244cALwXn",
        "outputId": "eeafb6b3-4a9f-4ead-e64d-8748ae748635"
      },
      "outputs": [
        {
          "output_type": "execute_result",
          "data": {
            "text/plain": [
              "RandomForestClassifier()"
            ],
            "text/html": [
              "<style>#sk-container-id-3 {color: black;}#sk-container-id-3 pre{padding: 0;}#sk-container-id-3 div.sk-toggleable {background-color: white;}#sk-container-id-3 label.sk-toggleable__label {cursor: pointer;display: block;width: 100%;margin-bottom: 0;padding: 0.3em;box-sizing: border-box;text-align: center;}#sk-container-id-3 label.sk-toggleable__label-arrow:before {content: \"▸\";float: left;margin-right: 0.25em;color: #696969;}#sk-container-id-3 label.sk-toggleable__label-arrow:hover:before {color: black;}#sk-container-id-3 div.sk-estimator:hover label.sk-toggleable__label-arrow:before {color: black;}#sk-container-id-3 div.sk-toggleable__content {max-height: 0;max-width: 0;overflow: hidden;text-align: left;background-color: #f0f8ff;}#sk-container-id-3 div.sk-toggleable__content pre {margin: 0.2em;color: black;border-radius: 0.25em;background-color: #f0f8ff;}#sk-container-id-3 input.sk-toggleable__control:checked~div.sk-toggleable__content {max-height: 200px;max-width: 100%;overflow: auto;}#sk-container-id-3 input.sk-toggleable__control:checked~label.sk-toggleable__label-arrow:before {content: \"▾\";}#sk-container-id-3 div.sk-estimator input.sk-toggleable__control:checked~label.sk-toggleable__label {background-color: #d4ebff;}#sk-container-id-3 div.sk-label input.sk-toggleable__control:checked~label.sk-toggleable__label {background-color: #d4ebff;}#sk-container-id-3 input.sk-hidden--visually {border: 0;clip: rect(1px 1px 1px 1px);clip: rect(1px, 1px, 1px, 1px);height: 1px;margin: -1px;overflow: hidden;padding: 0;position: absolute;width: 1px;}#sk-container-id-3 div.sk-estimator {font-family: monospace;background-color: #f0f8ff;border: 1px dotted black;border-radius: 0.25em;box-sizing: border-box;margin-bottom: 0.5em;}#sk-container-id-3 div.sk-estimator:hover {background-color: #d4ebff;}#sk-container-id-3 div.sk-parallel-item::after {content: \"\";width: 100%;border-bottom: 1px solid gray;flex-grow: 1;}#sk-container-id-3 div.sk-label:hover label.sk-toggleable__label {background-color: #d4ebff;}#sk-container-id-3 div.sk-serial::before {content: \"\";position: absolute;border-left: 1px solid gray;box-sizing: border-box;top: 0;bottom: 0;left: 50%;z-index: 0;}#sk-container-id-3 div.sk-serial {display: flex;flex-direction: column;align-items: center;background-color: white;padding-right: 0.2em;padding-left: 0.2em;position: relative;}#sk-container-id-3 div.sk-item {position: relative;z-index: 1;}#sk-container-id-3 div.sk-parallel {display: flex;align-items: stretch;justify-content: center;background-color: white;position: relative;}#sk-container-id-3 div.sk-item::before, #sk-container-id-3 div.sk-parallel-item::before {content: \"\";position: absolute;border-left: 1px solid gray;box-sizing: border-box;top: 0;bottom: 0;left: 50%;z-index: -1;}#sk-container-id-3 div.sk-parallel-item {display: flex;flex-direction: column;z-index: 1;position: relative;background-color: white;}#sk-container-id-3 div.sk-parallel-item:first-child::after {align-self: flex-end;width: 50%;}#sk-container-id-3 div.sk-parallel-item:last-child::after {align-self: flex-start;width: 50%;}#sk-container-id-3 div.sk-parallel-item:only-child::after {width: 0;}#sk-container-id-3 div.sk-dashed-wrapped {border: 1px dashed gray;margin: 0 0.4em 0.5em 0.4em;box-sizing: border-box;padding-bottom: 0.4em;background-color: white;}#sk-container-id-3 div.sk-label label {font-family: monospace;font-weight: bold;display: inline-block;line-height: 1.2em;}#sk-container-id-3 div.sk-label-container {text-align: center;}#sk-container-id-3 div.sk-container {/* jupyter's `normalize.less` sets `[hidden] { display: none; }` but bootstrap.min.css set `[hidden] { display: none !important; }` so we also need the `!important` here to be able to override the default hidden behavior on the sphinx rendered scikit-learn.org. See: https://github.com/scikit-learn/scikit-learn/issues/21755 */display: inline-block !important;position: relative;}#sk-container-id-3 div.sk-text-repr-fallback {display: none;}</style><div id=\"sk-container-id-3\" class=\"sk-top-container\"><div class=\"sk-text-repr-fallback\"><pre>RandomForestClassifier()</pre><b>In a Jupyter environment, please rerun this cell to show the HTML representation or trust the notebook. <br />On GitHub, the HTML representation is unable to render, please try loading this page with nbviewer.org.</b></div><div class=\"sk-container\" hidden><div class=\"sk-item\"><div class=\"sk-estimator sk-toggleable\"><input class=\"sk-toggleable__control sk-hidden--visually\" id=\"sk-estimator-id-3\" type=\"checkbox\" checked><label for=\"sk-estimator-id-3\" class=\"sk-toggleable__label sk-toggleable__label-arrow\">RandomForestClassifier</label><div class=\"sk-toggleable__content\"><pre>RandomForestClassifier()</pre></div></div></div></div></div>"
            ]
          },
          "metadata": {},
          "execution_count": 37
        }
      ],
      "source": [
        "from sklearn.ensemble import RandomForestClassifier\n",
        "rf = RandomForestClassifier()\n",
        "rf.fit(X_train, y_train)"
      ]
    },
    {
      "cell_type": "code",
      "execution_count": null,
      "metadata": {
        "id": "L3GN9kY8L4MH"
      },
      "outputs": [],
      "source": [
        "accuracy = rf.score(X_test, y_test)"
      ]
    },
    {
      "cell_type": "code",
      "execution_count": null,
      "metadata": {
        "colab": {
          "base_uri": "https://localhost:8080/"
        },
        "id": "Fyqr0MWPL50p",
        "outputId": "84dec646-eb23-44b6-d823-8106aab841b9"
      },
      "outputs": [
        {
          "output_type": "stream",
          "name": "stdout",
          "text": [
            "The accuracy of Random Forest Classifier is :100.00%\n"
          ]
        }
      ],
      "source": [
        "rf_predict= rf.predict(X_test)\n",
        "rf_predict\n",
        "accuracy_percentage = accuracy * 100\n",
        "\n",
        "# Print the percentage accuracy\n",
        "print(f'The accuracy of Random Forest Classifier is :{accuracy_percentage:.2f}%')"
      ]
    },
    {
      "cell_type": "code",
      "execution_count": null,
      "metadata": {
        "id": "NxxPBsfPL8vT"
      },
      "outputs": [],
      "source": [
        "from imblearn.over_sampling import SMOTE\n",
        "SMOTE = SMOTE()\n",
        "X_train_smote, y_train_smote = SMOTE.fit_resample(X_train, y_train)"
      ]
    },
    {
      "cell_type": "markdown",
      "metadata": {
        "id": "m5yTYRx-MAiT"
      },
      "source": [
        "#Logistic Regression"
      ]
    },
    {
      "cell_type": "code",
      "execution_count": null,
      "metadata": {
        "colab": {
          "base_uri": "https://localhost:8080/",
          "height": 213
        },
        "id": "pJs-RwfGL_lZ",
        "outputId": "da80780c-1b30-429c-c7fb-d11793dca616"
      },
      "outputs": [
        {
          "output_type": "stream",
          "name": "stderr",
          "text": [
            "/usr/local/lib/python3.10/dist-packages/sklearn/linear_model/_logistic.py:460: ConvergenceWarning: lbfgs failed to converge (status=1):\n",
            "STOP: TOTAL NO. of ITERATIONS REACHED LIMIT.\n",
            "\n",
            "Increase the number of iterations (max_iter) or scale the data as shown in:\n",
            "    https://scikit-learn.org/stable/modules/preprocessing.html\n",
            "Please also refer to the documentation for alternative solver options:\n",
            "    https://scikit-learn.org/stable/modules/linear_model.html#logistic-regression\n",
            "  n_iter_i = _check_optimize_result(\n"
          ]
        },
        {
          "output_type": "execute_result",
          "data": {
            "text/plain": [
              "LogisticRegression()"
            ],
            "text/html": [
              "<style>#sk-container-id-4 {color: black;}#sk-container-id-4 pre{padding: 0;}#sk-container-id-4 div.sk-toggleable {background-color: white;}#sk-container-id-4 label.sk-toggleable__label {cursor: pointer;display: block;width: 100%;margin-bottom: 0;padding: 0.3em;box-sizing: border-box;text-align: center;}#sk-container-id-4 label.sk-toggleable__label-arrow:before {content: \"▸\";float: left;margin-right: 0.25em;color: #696969;}#sk-container-id-4 label.sk-toggleable__label-arrow:hover:before {color: black;}#sk-container-id-4 div.sk-estimator:hover label.sk-toggleable__label-arrow:before {color: black;}#sk-container-id-4 div.sk-toggleable__content {max-height: 0;max-width: 0;overflow: hidden;text-align: left;background-color: #f0f8ff;}#sk-container-id-4 div.sk-toggleable__content pre {margin: 0.2em;color: black;border-radius: 0.25em;background-color: #f0f8ff;}#sk-container-id-4 input.sk-toggleable__control:checked~div.sk-toggleable__content {max-height: 200px;max-width: 100%;overflow: auto;}#sk-container-id-4 input.sk-toggleable__control:checked~label.sk-toggleable__label-arrow:before {content: \"▾\";}#sk-container-id-4 div.sk-estimator input.sk-toggleable__control:checked~label.sk-toggleable__label {background-color: #d4ebff;}#sk-container-id-4 div.sk-label input.sk-toggleable__control:checked~label.sk-toggleable__label {background-color: #d4ebff;}#sk-container-id-4 input.sk-hidden--visually {border: 0;clip: rect(1px 1px 1px 1px);clip: rect(1px, 1px, 1px, 1px);height: 1px;margin: -1px;overflow: hidden;padding: 0;position: absolute;width: 1px;}#sk-container-id-4 div.sk-estimator {font-family: monospace;background-color: #f0f8ff;border: 1px dotted black;border-radius: 0.25em;box-sizing: border-box;margin-bottom: 0.5em;}#sk-container-id-4 div.sk-estimator:hover {background-color: #d4ebff;}#sk-container-id-4 div.sk-parallel-item::after {content: \"\";width: 100%;border-bottom: 1px solid gray;flex-grow: 1;}#sk-container-id-4 div.sk-label:hover label.sk-toggleable__label {background-color: #d4ebff;}#sk-container-id-4 div.sk-serial::before {content: \"\";position: absolute;border-left: 1px solid gray;box-sizing: border-box;top: 0;bottom: 0;left: 50%;z-index: 0;}#sk-container-id-4 div.sk-serial {display: flex;flex-direction: column;align-items: center;background-color: white;padding-right: 0.2em;padding-left: 0.2em;position: relative;}#sk-container-id-4 div.sk-item {position: relative;z-index: 1;}#sk-container-id-4 div.sk-parallel {display: flex;align-items: stretch;justify-content: center;background-color: white;position: relative;}#sk-container-id-4 div.sk-item::before, #sk-container-id-4 div.sk-parallel-item::before {content: \"\";position: absolute;border-left: 1px solid gray;box-sizing: border-box;top: 0;bottom: 0;left: 50%;z-index: -1;}#sk-container-id-4 div.sk-parallel-item {display: flex;flex-direction: column;z-index: 1;position: relative;background-color: white;}#sk-container-id-4 div.sk-parallel-item:first-child::after {align-self: flex-end;width: 50%;}#sk-container-id-4 div.sk-parallel-item:last-child::after {align-self: flex-start;width: 50%;}#sk-container-id-4 div.sk-parallel-item:only-child::after {width: 0;}#sk-container-id-4 div.sk-dashed-wrapped {border: 1px dashed gray;margin: 0 0.4em 0.5em 0.4em;box-sizing: border-box;padding-bottom: 0.4em;background-color: white;}#sk-container-id-4 div.sk-label label {font-family: monospace;font-weight: bold;display: inline-block;line-height: 1.2em;}#sk-container-id-4 div.sk-label-container {text-align: center;}#sk-container-id-4 div.sk-container {/* jupyter's `normalize.less` sets `[hidden] { display: none; }` but bootstrap.min.css set `[hidden] { display: none !important; }` so we also need the `!important` here to be able to override the default hidden behavior on the sphinx rendered scikit-learn.org. See: https://github.com/scikit-learn/scikit-learn/issues/21755 */display: inline-block !important;position: relative;}#sk-container-id-4 div.sk-text-repr-fallback {display: none;}</style><div id=\"sk-container-id-4\" class=\"sk-top-container\"><div class=\"sk-text-repr-fallback\"><pre>LogisticRegression()</pre><b>In a Jupyter environment, please rerun this cell to show the HTML representation or trust the notebook. <br />On GitHub, the HTML representation is unable to render, please try loading this page with nbviewer.org.</b></div><div class=\"sk-container\" hidden><div class=\"sk-item\"><div class=\"sk-estimator sk-toggleable\"><input class=\"sk-toggleable__control sk-hidden--visually\" id=\"sk-estimator-id-4\" type=\"checkbox\" checked><label for=\"sk-estimator-id-4\" class=\"sk-toggleable__label sk-toggleable__label-arrow\">LogisticRegression</label><div class=\"sk-toggleable__content\"><pre>LogisticRegression()</pre></div></div></div></div></div>"
            ]
          },
          "metadata": {},
          "execution_count": 41
        }
      ],
      "source": [
        "log= LogisticRegression()\n",
        "log.fit(X_train_smote, y_train_smote)"
      ]
    },
    {
      "cell_type": "code",
      "execution_count": null,
      "metadata": {
        "colab": {
          "base_uri": "https://localhost:8080/"
        },
        "id": "TXW3CcyKMHWH",
        "outputId": "280a41b5-c446-43f8-f673-56441ddcd69b"
      },
      "outputs": [
        {
          "output_type": "execute_result",
          "data": {
            "text/plain": [
              "array([1, 0, 2, 1, 1, 0, 1, 2, 1, 1, 2, 0, 0, 0, 0, 1, 2, 1, 1, 2, 0, 2,\n",
              "       0, 2, 2, 2, 2, 2, 0, 0])"
            ]
          },
          "metadata": {},
          "execution_count": 42
        }
      ],
      "source": [
        "y_pred = log.predict(X_test)\n",
        "y_pred"
      ]
    },
    {
      "cell_type": "code",
      "execution_count": null,
      "metadata": {
        "colab": {
          "base_uri": "https://localhost:8080/"
        },
        "id": "idnYQ3VvMKFd",
        "outputId": "1b0630b8-faba-4a9d-bc26-b299afe6b038"
      },
      "outputs": [
        {
          "output_type": "stream",
          "name": "stdout",
          "text": [
            "              precision    recall  f1-score   support\n",
            "\n",
            "           0       1.00      1.00      1.00        10\n",
            "           1       1.00      1.00      1.00         9\n",
            "           2       1.00      1.00      1.00        11\n",
            "\n",
            "    accuracy                           1.00        30\n",
            "   macro avg       1.00      1.00      1.00        30\n",
            "weighted avg       1.00      1.00      1.00        30\n",
            "\n",
            "The accuracy of Logistic Regression is :100.0%\n"
          ]
        }
      ],
      "source": [
        "from sklearn.metrics import classification_report\n",
        "print(classification_report(y_test, y_pred))\n",
        "from sklearn import metrics\n",
        "print(f\"The accuracy of Logistic Regression is :{accuracy_score(y_test, y_pred)*100}%\")"
      ]
    }
  ],
  "metadata": {
    "colab": {
      "provenance": []
    },
    "kernelspec": {
      "display_name": "Python 3",
      "name": "python3"
    },
    "language_info": {
      "name": "python"
    }
  },
  "nbformat": 4,
  "nbformat_minor": 0
}